{
  "nbformat": 4,
  "nbformat_minor": 0,
  "metadata": {
    "colab": {
      "private_outputs": true,
      "provenance": []
    },
    "kernelspec": {
      "name": "python3",
      "display_name": "Python 3"
    },
    "language_info": {
      "name": "python"
    },
    "accelerator": "GPU",
    "gpuClass": "standard"
  },
  "cells": [
    {
      "cell_type": "code",
      "execution_count": null,
      "metadata": {
        "id": "mX1iEqOOe0rm"
      },
      "outputs": [],
      "source": [
        "from datasets import load_dataset\n",
        "from transformers import BloomTokenizerFast, BloomForCausalLM\n",
        "\n",
        "valid_dataset = load_dataset('totto', split='validation')\n"
      ]
    },
    {
      "cell_type": "code",
      "source": [
        "\n",
        "from preprocess import preprocess"
      ],
      "metadata": {
        "id": "dH-VAnQPhoxn"
      },
      "execution_count": null,
      "outputs": []
    },
    {
      "cell_type": "code",
      "source": [
        "import copy\n",
        "def preprocess(example):\n",
        "\n",
        "  def _add_adjusted_col_offsets(table):\n",
        "    \"\"\"Add adjusted column offsets to take into account multi-column cells.\"\"\"\n",
        "    adjusted_table = []\n",
        "    for row in table:\n",
        "      real_col_index = 0\n",
        "      adjusted_row = []\n",
        "      for cell in row:\n",
        "        adjusted_cell = copy.deepcopy(cell)\n",
        "        adjusted_cell[\"adjusted_col_start\"] = real_col_index\n",
        "        adjusted_cell[\"adjusted_col_end\"] = (\n",
        "            adjusted_cell[\"adjusted_col_start\"] + adjusted_cell[\"column_span\"])\n",
        "        real_col_index += adjusted_cell[\"column_span\"]\n",
        "        adjusted_row.append(adjusted_cell)\n",
        "      adjusted_table.append(adjusted_row)\n",
        "    return adjusted_table\n",
        "\n",
        "\n",
        "  def _get_heuristic_row_headers(adjusted_table, row_index, col_index):\n",
        "    \"\"\"Heuristic to find row headers.\"\"\"\n",
        "    row_headers = []\n",
        "    row = adjusted_table[row_index]\n",
        "    for i in range(0, col_index):\n",
        "      if row[i][\"is_header\"]:\n",
        "        row_headers.append(row[i])\n",
        "    return row_headers\n",
        "\n",
        "\n",
        "  def _get_heuristic_col_headers(adjusted_table, row_index, col_index):\n",
        "    \"\"\"Heuristic to find column headers.\"\"\"\n",
        "    adjusted_cell = adjusted_table[row_index][col_index]\n",
        "    adjusted_col_start = adjusted_cell[\"adjusted_col_start\"]\n",
        "    adjusted_col_end = adjusted_cell[\"adjusted_col_end\"]\n",
        "    col_headers = []\n",
        "    for r in range(0, row_index):\n",
        "      row = adjusted_table[r]\n",
        "      for cell in row:\n",
        "        if (cell[\"adjusted_col_start\"] < adjusted_col_end and\n",
        "            cell[\"adjusted_col_end\"] > adjusted_col_start):\n",
        "          if cell[\"is_header\"]:\n",
        "            col_headers.append(cell)\n",
        "\n",
        "    return col_headers\n",
        "\n",
        "\n",
        "  \n",
        "  table = example['table']\n",
        "  cell_indices = example[\"highlighted_cells\"]\n",
        "  table_str = \"\"\n",
        "  if example['table_page_title']:\n",
        "    table_str += \"<page_title> \" + example['table_page_title'] + \" </page_title> \"\n",
        "  if example['table_section_title']:\n",
        "    table_str += \"<section_title> \" + example['table_section_title'] + \" </section_title> \"\n",
        "\n",
        "  table_str += \"<table> \"\n",
        "  adjusted_table = _add_adjusted_col_offsets(table)\n",
        "  for r_index, row in enumerate(table):\n",
        "    row_str = \"<row> \"\n",
        "    for c_index, col in enumerate(row):\n",
        "\n",
        "      row_headers = _get_heuristic_row_headers(adjusted_table, r_index, c_index)\n",
        "      col_headers = _get_heuristic_col_headers(adjusted_table, r_index, c_index)\n",
        "\n",
        "      # Distinguish between highlighted and non-highlighted cells.\n",
        "      if [r_index, c_index] in cell_indices:\n",
        "        start_cell_marker = \"<highlighted_cell> \"\n",
        "        end_cell_marker = \"</highlighted_cell> \"\n",
        "      else:\n",
        "        start_cell_marker = \"<c> \"\n",
        "        end_cell_marker = \"</c> \"\n",
        "\n",
        "      # The value of the cell.\n",
        "      item_str = start_cell_marker + col[\"value\"] + \" \"\n",
        "\n",
        "      # All the column headers associated with this cell.\n",
        "      for col_header in col_headers:\n",
        "        item_str += \"<col_header> \" + col_header[\"value\"] + \" </col_header> \"\n",
        "\n",
        "      # All the row headers associated with this cell.\n",
        "      for row_header in row_headers:\n",
        "        item_str += \"<row_header> \" + row_header[\"value\"] + \" </row_header> \"\n",
        "\n",
        "      item_str += end_cell_marker\n",
        "      row_str += item_str\n",
        "\n",
        "    row_str += \"</row> \"\n",
        "    table_str += row_str\n",
        "\n",
        "  table_str += \"</table>\"\n",
        "\n",
        "  example['linearized_table'] = '<s>' + table_str + '\\n' + '\\n'\n",
        "  return example"
      ],
      "metadata": {
        "id": "9ZFzTBcVoj4v"
      },
      "execution_count": null,
      "outputs": []
    },
    {
      "cell_type": "code",
      "source": [
        "valid_dataset = valid_dataset.map(preprocess) \n",
        "\n",
        "model_ckpt = \"mrm8488/bloom-560m-finetuned-totto-table-to-text\"\n",
        "\n",
        "tokenizer = BloomTokenizerFast.from_pretrained(ckpt)\n",
        "model = BloomForCausalLM.from_pretrained(ckpt).to(\"cuda\")"
      ],
      "metadata": {
        "id": "e-xoIAeEfVoh"
      },
      "execution_count": null,
      "outputs": []
    },
    {
      "cell_type": "code",
      "source": [
        "tokenizer = BloomTokenizerFast.from_pretrained(model_ckpt)\n",
        "model = BloomForCausalLM.from_pretrained(model_ckpt).to(\"cuda\")"
      ],
      "metadata": {
        "id": "TVVPNfVXl1Ru"
      },
      "execution_count": null,
      "outputs": []
    },
    {
      "cell_type": "code",
      "source": [
        "def explain_hl_cells(text):\n",
        "    inputs = tokenizer(text, return_tensors='pt')\n",
        "    input_ids = inputs.input_ids.to(\"cuda\")\n",
        "    attention_mask = inputs.attention_mask.to(\"cuda\")\n",
        "    output = model.generate(input_ids, attention_mask=attention_mask, max_length=2048, eos_token_id=tokenizer.eos_token_id)\n",
        "\n",
        "    return tokenizer.decode(output[0], skip_special_tokens=False)"
      ],
      "metadata": {
        "id": "SMTkCn17l-KB"
      },
      "execution_count": null,
      "outputs": []
    },
    {
      "cell_type": "code",
      "source": [
        "example = valid_dataset[1]\n",
        "example"
      ],
      "metadata": {
        "id": "53ZSlyAHmOAn"
      },
      "execution_count": null,
      "outputs": []
    },
    {
      "cell_type": "code",
      "source": [
        "example['linearized_table']"
      ],
      "metadata": {
        "id": "Q1eaKH9Qmh3G"
      },
      "execution_count": null,
      "outputs": []
    },
    {
      "cell_type": "code",
      "source": [
        "print(explain_hl_cells(example['linearized_table']))"
      ],
      "metadata": {
        "id": "7KoI4MnCmW4W"
      },
      "execution_count": null,
      "outputs": []
    }
  ]
}