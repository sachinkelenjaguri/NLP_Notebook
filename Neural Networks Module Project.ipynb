{
 "cells": [
  {
   "cell_type": "markdown",
   "id": "356aa384",
   "metadata": {},
   "source": [
    "## Part A• \n",
    "## DOMAIN: Electronics and Telecommunication\n",
    "## • CONTEXT: A communications equipment manufacturing company has a product which is responsible for emitting ## informative signals. \n",
    "## Company wants to build a machine learning model which can help the company to predict the equipment’s signal quality using various \n",
    "## parameters. \n",
    "## • DATA DESCRIPTION: The data set contains information on various signal tests performed:\n",
    "## 1. Parameters: Various measurable signal parameters.\n",
    "## 2. Signal_Quality: Final signal strength or quality\n",
    "## • PROJECT OBJECTIVE: To build a classifier which can use the given parameters to determine the signal strength or quality"
   ]
  },
  {
   "cell_type": "code",
   "execution_count": null,
   "id": "03e32a58",
   "metadata": {},
   "outputs": [],
   "source": [
    "###1. Data import and Understanding [10 Marks"
   ]
  },
  {
   "cell_type": "code",
   "execution_count": 1,
   "id": "27b621b7",
   "metadata": {},
   "outputs": [
    {
     "data": {
      "text/html": [
       "<div>\n",
       "<style scoped>\n",
       "    .dataframe tbody tr th:only-of-type {\n",
       "        vertical-align: middle;\n",
       "    }\n",
       "\n",
       "    .dataframe tbody tr th {\n",
       "        vertical-align: top;\n",
       "    }\n",
       "\n",
       "    .dataframe thead th {\n",
       "        text-align: right;\n",
       "    }\n",
       "</style>\n",
       "<table border=\"1\" class=\"dataframe\">\n",
       "  <thead>\n",
       "    <tr style=\"text-align: right;\">\n",
       "      <th></th>\n",
       "      <th>Parameter 1</th>\n",
       "      <th>Parameter 2</th>\n",
       "      <th>Parameter 3</th>\n",
       "      <th>Parameter 4</th>\n",
       "      <th>Parameter 5</th>\n",
       "      <th>Parameter 6</th>\n",
       "      <th>Parameter 7</th>\n",
       "      <th>Parameter 8</th>\n",
       "      <th>Parameter 9</th>\n",
       "      <th>Parameter 10</th>\n",
       "      <th>Parameter 11</th>\n",
       "      <th>Signal_Strength</th>\n",
       "    </tr>\n",
       "  </thead>\n",
       "  <tbody>\n",
       "    <tr>\n",
       "      <th>0</th>\n",
       "      <td>7.4</td>\n",
       "      <td>0.70</td>\n",
       "      <td>0.00</td>\n",
       "      <td>1.9</td>\n",
       "      <td>0.076</td>\n",
       "      <td>11.0</td>\n",
       "      <td>34.0</td>\n",
       "      <td>0.9978</td>\n",
       "      <td>3.51</td>\n",
       "      <td>0.56</td>\n",
       "      <td>9.4</td>\n",
       "      <td>5</td>\n",
       "    </tr>\n",
       "    <tr>\n",
       "      <th>1</th>\n",
       "      <td>7.8</td>\n",
       "      <td>0.88</td>\n",
       "      <td>0.00</td>\n",
       "      <td>2.6</td>\n",
       "      <td>0.098</td>\n",
       "      <td>25.0</td>\n",
       "      <td>67.0</td>\n",
       "      <td>0.9968</td>\n",
       "      <td>3.20</td>\n",
       "      <td>0.68</td>\n",
       "      <td>9.8</td>\n",
       "      <td>5</td>\n",
       "    </tr>\n",
       "    <tr>\n",
       "      <th>2</th>\n",
       "      <td>7.8</td>\n",
       "      <td>0.76</td>\n",
       "      <td>0.04</td>\n",
       "      <td>2.3</td>\n",
       "      <td>0.092</td>\n",
       "      <td>15.0</td>\n",
       "      <td>54.0</td>\n",
       "      <td>0.9970</td>\n",
       "      <td>3.26</td>\n",
       "      <td>0.65</td>\n",
       "      <td>9.8</td>\n",
       "      <td>5</td>\n",
       "    </tr>\n",
       "    <tr>\n",
       "      <th>3</th>\n",
       "      <td>11.2</td>\n",
       "      <td>0.28</td>\n",
       "      <td>0.56</td>\n",
       "      <td>1.9</td>\n",
       "      <td>0.075</td>\n",
       "      <td>17.0</td>\n",
       "      <td>60.0</td>\n",
       "      <td>0.9980</td>\n",
       "      <td>3.16</td>\n",
       "      <td>0.58</td>\n",
       "      <td>9.8</td>\n",
       "      <td>6</td>\n",
       "    </tr>\n",
       "    <tr>\n",
       "      <th>4</th>\n",
       "      <td>7.4</td>\n",
       "      <td>0.70</td>\n",
       "      <td>0.00</td>\n",
       "      <td>1.9</td>\n",
       "      <td>0.076</td>\n",
       "      <td>11.0</td>\n",
       "      <td>34.0</td>\n",
       "      <td>0.9978</td>\n",
       "      <td>3.51</td>\n",
       "      <td>0.56</td>\n",
       "      <td>9.4</td>\n",
       "      <td>5</td>\n",
       "    </tr>\n",
       "  </tbody>\n",
       "</table>\n",
       "</div>"
      ],
      "text/plain": [
       "   Parameter 1  Parameter 2  Parameter 3  Parameter 4  Parameter 5  \\\n",
       "0          7.4         0.70         0.00          1.9        0.076   \n",
       "1          7.8         0.88         0.00          2.6        0.098   \n",
       "2          7.8         0.76         0.04          2.3        0.092   \n",
       "3         11.2         0.28         0.56          1.9        0.075   \n",
       "4          7.4         0.70         0.00          1.9        0.076   \n",
       "\n",
       "   Parameter 6  Parameter 7  Parameter 8  Parameter 9  Parameter 10  \\\n",
       "0         11.0         34.0       0.9978         3.51          0.56   \n",
       "1         25.0         67.0       0.9968         3.20          0.68   \n",
       "2         15.0         54.0       0.9970         3.26          0.65   \n",
       "3         17.0         60.0       0.9980         3.16          0.58   \n",
       "4         11.0         34.0       0.9978         3.51          0.56   \n",
       "\n",
       "   Parameter 11  Signal_Strength  \n",
       "0           9.4                5  \n",
       "1           9.8                5  \n",
       "2           9.8                5  \n",
       "3           9.8                6  \n",
       "4           9.4                5  "
      ]
     },
     "execution_count": 1,
     "metadata": {},
     "output_type": "execute_result"
    }
   ],
   "source": [
    "\n",
    "import numpy as np\n",
    "import pandas as pd\n",
    "import seaborn as sns\n",
    "import matplotlib.pyplot as plt\n",
    "%matplotlib inline\n",
    "\n",
    "data = pd.read_csv('PartA_Signal.csv')\n",
    "\n",
    "data.head()"
   ]
  },
  {
   "cell_type": "code",
   "execution_count": 2,
   "id": "08b39ee1",
   "metadata": {},
   "outputs": [
    {
     "name": "stdout",
     "output_type": "stream",
     "text": [
      "<class 'pandas.core.frame.DataFrame'>\n",
      "RangeIndex: 1599 entries, 0 to 1598\n",
      "Data columns (total 12 columns):\n",
      " #   Column           Non-Null Count  Dtype  \n",
      "---  ------           --------------  -----  \n",
      " 0   Parameter 1      1599 non-null   float64\n",
      " 1   Parameter 2      1599 non-null   float64\n",
      " 2   Parameter 3      1599 non-null   float64\n",
      " 3   Parameter 4      1599 non-null   float64\n",
      " 4   Parameter 5      1599 non-null   float64\n",
      " 5   Parameter 6      1599 non-null   float64\n",
      " 6   Parameter 7      1599 non-null   float64\n",
      " 7   Parameter 8      1599 non-null   float64\n",
      " 8   Parameter 9      1599 non-null   float64\n",
      " 9   Parameter 10     1599 non-null   float64\n",
      " 10  Parameter 11     1599 non-null   float64\n",
      " 11  Signal_Strength  1599 non-null   int64  \n",
      "dtypes: float64(11), int64(1)\n",
      "memory usage: 150.0 KB\n"
     ]
    }
   ],
   "source": [
    "data.info()"
   ]
  },
  {
   "cell_type": "markdown",
   "id": "356cc26f",
   "metadata": {},
   "source": [
    "## B. Check for missing values and print percentage for each attribute. "
   ]
  },
  {
   "cell_type": "code",
   "execution_count": 3,
   "id": "aa7ebfbb",
   "metadata": {},
   "outputs": [
    {
     "data": {
      "text/plain": [
       "Parameter 1        0.0\n",
       "Parameter 2        0.0\n",
       "Parameter 3        0.0\n",
       "Parameter 4        0.0\n",
       "Parameter 5        0.0\n",
       "Parameter 6        0.0\n",
       "Parameter 7        0.0\n",
       "Parameter 8        0.0\n",
       "Parameter 9        0.0\n",
       "Parameter 10       0.0\n",
       "Parameter 11       0.0\n",
       "Signal_Strength    0.0\n",
       "dtype: float64"
      ]
     },
     "execution_count": 3,
     "metadata": {},
     "output_type": "execute_result"
    }
   ],
   "source": [
    "\n",
    "data.isnull().sum()*100/len(data)"
   ]
  },
  {
   "cell_type": "code",
   "execution_count": 4,
   "id": "e3784907",
   "metadata": {},
   "outputs": [
    {
     "data": {
      "text/plain": [
       "[]"
      ]
     },
     "execution_count": 4,
     "metadata": {},
     "output_type": "execute_result"
    }
   ],
   "source": [
    "# Check if any column has null values remaining\n",
    "data.columns[data.isna().any()].tolist()"
   ]
  },
  {
   "cell_type": "code",
   "execution_count": 5,
   "id": "3ecce2c8",
   "metadata": {},
   "outputs": [
    {
     "data": {
      "text/html": [
       "<div>\n",
       "<style scoped>\n",
       "    .dataframe tbody tr th:only-of-type {\n",
       "        vertical-align: middle;\n",
       "    }\n",
       "\n",
       "    .dataframe tbody tr th {\n",
       "        vertical-align: top;\n",
       "    }\n",
       "\n",
       "    .dataframe thead th {\n",
       "        text-align: right;\n",
       "    }\n",
       "</style>\n",
       "<table border=\"1\" class=\"dataframe\">\n",
       "  <thead>\n",
       "    <tr style=\"text-align: right;\">\n",
       "      <th></th>\n",
       "      <th>data_type</th>\n",
       "      <th>data_type_grp</th>\n",
       "      <th>num_unique_values</th>\n",
       "      <th>sample_unique_values</th>\n",
       "      <th>num_missing</th>\n",
       "      <th>perc_missing</th>\n",
       "    </tr>\n",
       "  </thead>\n",
       "  <tbody>\n",
       "    <tr>\n",
       "      <th>Parameter 1</th>\n",
       "      <td>float64</td>\n",
       "      <td>Numerical</td>\n",
       "      <td>96</td>\n",
       "      <td>[7.4, 7.8, 11.2, 7.9, 7.3, 7.5, 6.7, 5.6, 8.9,...</td>\n",
       "      <td>0</td>\n",
       "      <td>0.0</td>\n",
       "    </tr>\n",
       "    <tr>\n",
       "      <th>Parameter 2</th>\n",
       "      <td>float64</td>\n",
       "      <td>Numerical</td>\n",
       "      <td>143</td>\n",
       "      <td>[0.7, 0.88, 0.76, 0.28, 0.66, 0.6, 0.65, 0.58,...</td>\n",
       "      <td>0</td>\n",
       "      <td>0.0</td>\n",
       "    </tr>\n",
       "    <tr>\n",
       "      <th>Parameter 3</th>\n",
       "      <td>float64</td>\n",
       "      <td>Numerical</td>\n",
       "      <td>80</td>\n",
       "      <td>[0.0, 0.04, 0.56, 0.06, 0.02, 0.36, 0.08, 0.29...</td>\n",
       "      <td>0</td>\n",
       "      <td>0.0</td>\n",
       "    </tr>\n",
       "    <tr>\n",
       "      <th>Parameter 4</th>\n",
       "      <td>float64</td>\n",
       "      <td>Numerical</td>\n",
       "      <td>91</td>\n",
       "      <td>[1.9, 2.6, 2.3, 1.8, 1.6, 1.2, 2.0, 6.1, 3.8, ...</td>\n",
       "      <td>0</td>\n",
       "      <td>0.0</td>\n",
       "    </tr>\n",
       "    <tr>\n",
       "      <th>Parameter 5</th>\n",
       "      <td>float64</td>\n",
       "      <td>Numerical</td>\n",
       "      <td>153</td>\n",
       "      <td>[0.076, 0.098, 0.092, 0.075, 0.069, 0.065, 0.0...</td>\n",
       "      <td>0</td>\n",
       "      <td>0.0</td>\n",
       "    </tr>\n",
       "    <tr>\n",
       "      <th>Parameter 6</th>\n",
       "      <td>float64</td>\n",
       "      <td>Numerical</td>\n",
       "      <td>60</td>\n",
       "      <td>[11.0, 25.0, 15.0, 17.0, 13.0, 9.0, 16.0, 52.0...</td>\n",
       "      <td>0</td>\n",
       "      <td>0.0</td>\n",
       "    </tr>\n",
       "    <tr>\n",
       "      <th>Parameter 7</th>\n",
       "      <td>float64</td>\n",
       "      <td>Numerical</td>\n",
       "      <td>144</td>\n",
       "      <td>[34.0, 67.0, 54.0, 60.0, 40.0, 59.0, 21.0, 18....</td>\n",
       "      <td>0</td>\n",
       "      <td>0.0</td>\n",
       "    </tr>\n",
       "    <tr>\n",
       "      <th>Parameter 8</th>\n",
       "      <td>float64</td>\n",
       "      <td>Numerical</td>\n",
       "      <td>436</td>\n",
       "      <td>[0.9978, 0.9968, 0.997, 0.998, 0.9964, 0.9946,...</td>\n",
       "      <td>0</td>\n",
       "      <td>0.0</td>\n",
       "    </tr>\n",
       "    <tr>\n",
       "      <th>Parameter 9</th>\n",
       "      <td>float64</td>\n",
       "      <td>Numerical</td>\n",
       "      <td>89</td>\n",
       "      <td>[3.51, 3.2, 3.26, 3.16, 3.3, 3.39, 3.36, 3.35,...</td>\n",
       "      <td>0</td>\n",
       "      <td>0.0</td>\n",
       "    </tr>\n",
       "    <tr>\n",
       "      <th>Parameter 10</th>\n",
       "      <td>float64</td>\n",
       "      <td>Numerical</td>\n",
       "      <td>96</td>\n",
       "      <td>[0.56, 0.68, 0.65, 0.58, 0.46, 0.47, 0.57, 0.8...</td>\n",
       "      <td>0</td>\n",
       "      <td>0.0</td>\n",
       "    </tr>\n",
       "    <tr>\n",
       "      <th>Parameter 11</th>\n",
       "      <td>float64</td>\n",
       "      <td>Numerical</td>\n",
       "      <td>65</td>\n",
       "      <td>[9.4, 9.8, 10.0, 9.5, 10.5, 9.2, 9.9, 9.1, 9.3...</td>\n",
       "      <td>0</td>\n",
       "      <td>0.0</td>\n",
       "    </tr>\n",
       "    <tr>\n",
       "      <th>Signal_Strength</th>\n",
       "      <td>int64</td>\n",
       "      <td>Numerical</td>\n",
       "      <td>6</td>\n",
       "      <td>[5, 6, 7, 4, 8, 3]</td>\n",
       "      <td>0</td>\n",
       "      <td>0.0</td>\n",
       "    </tr>\n",
       "  </tbody>\n",
       "</table>\n",
       "</div>"
      ],
      "text/plain": [
       "                data_type data_type_grp num_unique_values  \\\n",
       "Parameter 1       float64     Numerical                96   \n",
       "Parameter 2       float64     Numerical               143   \n",
       "Parameter 3       float64     Numerical                80   \n",
       "Parameter 4       float64     Numerical                91   \n",
       "Parameter 5       float64     Numerical               153   \n",
       "Parameter 6       float64     Numerical                60   \n",
       "Parameter 7       float64     Numerical               144   \n",
       "Parameter 8       float64     Numerical               436   \n",
       "Parameter 9       float64     Numerical                89   \n",
       "Parameter 10      float64     Numerical                96   \n",
       "Parameter 11      float64     Numerical                65   \n",
       "Signal_Strength     int64     Numerical                 6   \n",
       "\n",
       "                                              sample_unique_values  \\\n",
       "Parameter 1      [7.4, 7.8, 11.2, 7.9, 7.3, 7.5, 6.7, 5.6, 8.9,...   \n",
       "Parameter 2      [0.7, 0.88, 0.76, 0.28, 0.66, 0.6, 0.65, 0.58,...   \n",
       "Parameter 3      [0.0, 0.04, 0.56, 0.06, 0.02, 0.36, 0.08, 0.29...   \n",
       "Parameter 4      [1.9, 2.6, 2.3, 1.8, 1.6, 1.2, 2.0, 6.1, 3.8, ...   \n",
       "Parameter 5      [0.076, 0.098, 0.092, 0.075, 0.069, 0.065, 0.0...   \n",
       "Parameter 6      [11.0, 25.0, 15.0, 17.0, 13.0, 9.0, 16.0, 52.0...   \n",
       "Parameter 7      [34.0, 67.0, 54.0, 60.0, 40.0, 59.0, 21.0, 18....   \n",
       "Parameter 8      [0.9978, 0.9968, 0.997, 0.998, 0.9964, 0.9946,...   \n",
       "Parameter 9      [3.51, 3.2, 3.26, 3.16, 3.3, 3.39, 3.36, 3.35,...   \n",
       "Parameter 10     [0.56, 0.68, 0.65, 0.58, 0.46, 0.47, 0.57, 0.8...   \n",
       "Parameter 11     [9.4, 9.8, 10.0, 9.5, 10.5, 9.2, 9.9, 9.1, 9.3...   \n",
       "Signal_Strength                                 [5, 6, 7, 4, 8, 3]   \n",
       "\n",
       "                num_missing perc_missing  \n",
       "Parameter 1               0          0.0  \n",
       "Parameter 2               0          0.0  \n",
       "Parameter 3               0          0.0  \n",
       "Parameter 4               0          0.0  \n",
       "Parameter 5               0          0.0  \n",
       "Parameter 6               0          0.0  \n",
       "Parameter 7               0          0.0  \n",
       "Parameter 8               0          0.0  \n",
       "Parameter 9               0          0.0  \n",
       "Parameter 10              0          0.0  \n",
       "Parameter 11              0          0.0  \n",
       "Signal_Strength           0          0.0  "
      ]
     },
     "execution_count": 5,
     "metadata": {},
     "output_type": "execute_result"
    }
   ],
   "source": [
    "\n",
    "from fast_ml import eda\n",
    "\n",
    "eda.df_info(data)"
   ]
  },
  {
   "cell_type": "markdown",
   "id": "ef0c349d",
   "metadata": {},
   "source": [
    "No missing values found in any column of data."
   ]
  },
  {
   "cell_type": "markdown",
   "id": "ed2c42bf",
   "metadata": {},
   "source": [
    "## C. Check for presence of duplicate records in the dataset and impute with appropriate method. "
   ]
  },
  {
   "cell_type": "code",
   "execution_count": 6,
   "id": "38634775",
   "metadata": {},
   "outputs": [
    {
     "data": {
      "text/html": [
       "<div>\n",
       "<style scoped>\n",
       "    .dataframe tbody tr th:only-of-type {\n",
       "        vertical-align: middle;\n",
       "    }\n",
       "\n",
       "    .dataframe tbody tr th {\n",
       "        vertical-align: top;\n",
       "    }\n",
       "\n",
       "    .dataframe thead th {\n",
       "        text-align: right;\n",
       "    }\n",
       "</style>\n",
       "<table border=\"1\" class=\"dataframe\">\n",
       "  <thead>\n",
       "    <tr style=\"text-align: right;\">\n",
       "      <th></th>\n",
       "      <th>Parameter 1</th>\n",
       "      <th>Parameter 2</th>\n",
       "      <th>Parameter 3</th>\n",
       "      <th>Parameter 4</th>\n",
       "      <th>Parameter 5</th>\n",
       "      <th>Parameter 6</th>\n",
       "      <th>Parameter 7</th>\n",
       "      <th>Parameter 8</th>\n",
       "      <th>Parameter 9</th>\n",
       "      <th>Parameter 10</th>\n",
       "      <th>Parameter 11</th>\n",
       "      <th>Signal_Strength</th>\n",
       "    </tr>\n",
       "  </thead>\n",
       "  <tbody>\n",
       "    <tr>\n",
       "      <th>4</th>\n",
       "      <td>7.4</td>\n",
       "      <td>0.700</td>\n",
       "      <td>0.00</td>\n",
       "      <td>1.90</td>\n",
       "      <td>0.076</td>\n",
       "      <td>11.0</td>\n",
       "      <td>34.0</td>\n",
       "      <td>0.99780</td>\n",
       "      <td>3.51</td>\n",
       "      <td>0.56</td>\n",
       "      <td>9.4</td>\n",
       "      <td>5</td>\n",
       "    </tr>\n",
       "    <tr>\n",
       "      <th>11</th>\n",
       "      <td>7.5</td>\n",
       "      <td>0.500</td>\n",
       "      <td>0.36</td>\n",
       "      <td>6.10</td>\n",
       "      <td>0.071</td>\n",
       "      <td>17.0</td>\n",
       "      <td>102.0</td>\n",
       "      <td>0.99780</td>\n",
       "      <td>3.35</td>\n",
       "      <td>0.80</td>\n",
       "      <td>10.5</td>\n",
       "      <td>5</td>\n",
       "    </tr>\n",
       "    <tr>\n",
       "      <th>27</th>\n",
       "      <td>7.9</td>\n",
       "      <td>0.430</td>\n",
       "      <td>0.21</td>\n",
       "      <td>1.60</td>\n",
       "      <td>0.106</td>\n",
       "      <td>10.0</td>\n",
       "      <td>37.0</td>\n",
       "      <td>0.99660</td>\n",
       "      <td>3.17</td>\n",
       "      <td>0.91</td>\n",
       "      <td>9.5</td>\n",
       "      <td>5</td>\n",
       "    </tr>\n",
       "    <tr>\n",
       "      <th>40</th>\n",
       "      <td>7.3</td>\n",
       "      <td>0.450</td>\n",
       "      <td>0.36</td>\n",
       "      <td>5.90</td>\n",
       "      <td>0.074</td>\n",
       "      <td>12.0</td>\n",
       "      <td>87.0</td>\n",
       "      <td>0.99780</td>\n",
       "      <td>3.33</td>\n",
       "      <td>0.83</td>\n",
       "      <td>10.5</td>\n",
       "      <td>5</td>\n",
       "    </tr>\n",
       "    <tr>\n",
       "      <th>65</th>\n",
       "      <td>7.2</td>\n",
       "      <td>0.725</td>\n",
       "      <td>0.05</td>\n",
       "      <td>4.65</td>\n",
       "      <td>0.086</td>\n",
       "      <td>4.0</td>\n",
       "      <td>11.0</td>\n",
       "      <td>0.99620</td>\n",
       "      <td>3.41</td>\n",
       "      <td>0.39</td>\n",
       "      <td>10.9</td>\n",
       "      <td>5</td>\n",
       "    </tr>\n",
       "    <tr>\n",
       "      <th>...</th>\n",
       "      <td>...</td>\n",
       "      <td>...</td>\n",
       "      <td>...</td>\n",
       "      <td>...</td>\n",
       "      <td>...</td>\n",
       "      <td>...</td>\n",
       "      <td>...</td>\n",
       "      <td>...</td>\n",
       "      <td>...</td>\n",
       "      <td>...</td>\n",
       "      <td>...</td>\n",
       "      <td>...</td>\n",
       "    </tr>\n",
       "    <tr>\n",
       "      <th>1563</th>\n",
       "      <td>7.2</td>\n",
       "      <td>0.695</td>\n",
       "      <td>0.13</td>\n",
       "      <td>2.00</td>\n",
       "      <td>0.076</td>\n",
       "      <td>12.0</td>\n",
       "      <td>20.0</td>\n",
       "      <td>0.99546</td>\n",
       "      <td>3.29</td>\n",
       "      <td>0.54</td>\n",
       "      <td>10.1</td>\n",
       "      <td>5</td>\n",
       "    </tr>\n",
       "    <tr>\n",
       "      <th>1564</th>\n",
       "      <td>7.2</td>\n",
       "      <td>0.695</td>\n",
       "      <td>0.13</td>\n",
       "      <td>2.00</td>\n",
       "      <td>0.076</td>\n",
       "      <td>12.0</td>\n",
       "      <td>20.0</td>\n",
       "      <td>0.99546</td>\n",
       "      <td>3.29</td>\n",
       "      <td>0.54</td>\n",
       "      <td>10.1</td>\n",
       "      <td>5</td>\n",
       "    </tr>\n",
       "    <tr>\n",
       "      <th>1567</th>\n",
       "      <td>7.2</td>\n",
       "      <td>0.695</td>\n",
       "      <td>0.13</td>\n",
       "      <td>2.00</td>\n",
       "      <td>0.076</td>\n",
       "      <td>12.0</td>\n",
       "      <td>20.0</td>\n",
       "      <td>0.99546</td>\n",
       "      <td>3.29</td>\n",
       "      <td>0.54</td>\n",
       "      <td>10.1</td>\n",
       "      <td>5</td>\n",
       "    </tr>\n",
       "    <tr>\n",
       "      <th>1581</th>\n",
       "      <td>6.2</td>\n",
       "      <td>0.560</td>\n",
       "      <td>0.09</td>\n",
       "      <td>1.70</td>\n",
       "      <td>0.053</td>\n",
       "      <td>24.0</td>\n",
       "      <td>32.0</td>\n",
       "      <td>0.99402</td>\n",
       "      <td>3.54</td>\n",
       "      <td>0.60</td>\n",
       "      <td>11.3</td>\n",
       "      <td>5</td>\n",
       "    </tr>\n",
       "    <tr>\n",
       "      <th>1596</th>\n",
       "      <td>6.3</td>\n",
       "      <td>0.510</td>\n",
       "      <td>0.13</td>\n",
       "      <td>2.30</td>\n",
       "      <td>0.076</td>\n",
       "      <td>29.0</td>\n",
       "      <td>40.0</td>\n",
       "      <td>0.99574</td>\n",
       "      <td>3.42</td>\n",
       "      <td>0.75</td>\n",
       "      <td>11.0</td>\n",
       "      <td>6</td>\n",
       "    </tr>\n",
       "  </tbody>\n",
       "</table>\n",
       "<p>240 rows × 12 columns</p>\n",
       "</div>"
      ],
      "text/plain": [
       "      Parameter 1  Parameter 2  Parameter 3  Parameter 4  Parameter 5  \\\n",
       "4             7.4        0.700         0.00         1.90        0.076   \n",
       "11            7.5        0.500         0.36         6.10        0.071   \n",
       "27            7.9        0.430         0.21         1.60        0.106   \n",
       "40            7.3        0.450         0.36         5.90        0.074   \n",
       "65            7.2        0.725         0.05         4.65        0.086   \n",
       "...           ...          ...          ...          ...          ...   \n",
       "1563          7.2        0.695         0.13         2.00        0.076   \n",
       "1564          7.2        0.695         0.13         2.00        0.076   \n",
       "1567          7.2        0.695         0.13         2.00        0.076   \n",
       "1581          6.2        0.560         0.09         1.70        0.053   \n",
       "1596          6.3        0.510         0.13         2.30        0.076   \n",
       "\n",
       "      Parameter 6  Parameter 7  Parameter 8  Parameter 9  Parameter 10  \\\n",
       "4            11.0         34.0      0.99780         3.51          0.56   \n",
       "11           17.0        102.0      0.99780         3.35          0.80   \n",
       "27           10.0         37.0      0.99660         3.17          0.91   \n",
       "40           12.0         87.0      0.99780         3.33          0.83   \n",
       "65            4.0         11.0      0.99620         3.41          0.39   \n",
       "...           ...          ...          ...          ...           ...   \n",
       "1563         12.0         20.0      0.99546         3.29          0.54   \n",
       "1564         12.0         20.0      0.99546         3.29          0.54   \n",
       "1567         12.0         20.0      0.99546         3.29          0.54   \n",
       "1581         24.0         32.0      0.99402         3.54          0.60   \n",
       "1596         29.0         40.0      0.99574         3.42          0.75   \n",
       "\n",
       "      Parameter 11  Signal_Strength  \n",
       "4              9.4                5  \n",
       "11            10.5                5  \n",
       "27             9.5                5  \n",
       "40            10.5                5  \n",
       "65            10.9                5  \n",
       "...            ...              ...  \n",
       "1563          10.1                5  \n",
       "1564          10.1                5  \n",
       "1567          10.1                5  \n",
       "1581          11.3                5  \n",
       "1596          11.0                6  \n",
       "\n",
       "[240 rows x 12 columns]"
      ]
     },
     "execution_count": 6,
     "metadata": {},
     "output_type": "execute_result"
    }
   ],
   "source": [
    "\n",
    "data[data.duplicated()]"
   ]
  },
  {
   "cell_type": "code",
   "execution_count": 7,
   "id": "5b794059",
   "metadata": {},
   "outputs": [
    {
     "data": {
      "text/html": [
       "<div>\n",
       "<style scoped>\n",
       "    .dataframe tbody tr th:only-of-type {\n",
       "        vertical-align: middle;\n",
       "    }\n",
       "\n",
       "    .dataframe tbody tr th {\n",
       "        vertical-align: top;\n",
       "    }\n",
       "\n",
       "    .dataframe thead th {\n",
       "        text-align: right;\n",
       "    }\n",
       "</style>\n",
       "<table border=\"1\" class=\"dataframe\">\n",
       "  <thead>\n",
       "    <tr style=\"text-align: right;\">\n",
       "      <th></th>\n",
       "      <th>Parameter 1</th>\n",
       "      <th>Parameter 2</th>\n",
       "      <th>Parameter 3</th>\n",
       "      <th>Parameter 4</th>\n",
       "      <th>Parameter 5</th>\n",
       "      <th>Parameter 6</th>\n",
       "      <th>Parameter 7</th>\n",
       "      <th>Parameter 8</th>\n",
       "      <th>Parameter 9</th>\n",
       "      <th>Parameter 10</th>\n",
       "      <th>Parameter 11</th>\n",
       "      <th>Signal_Strength</th>\n",
       "    </tr>\n",
       "  </thead>\n",
       "  <tbody>\n",
       "  </tbody>\n",
       "</table>\n",
       "</div>"
      ],
      "text/plain": [
       "Empty DataFrame\n",
       "Columns: [Parameter 1, Parameter 2, Parameter 3, Parameter 4, Parameter 5, Parameter 6, Parameter 7, Parameter 8, Parameter 9, Parameter 10, Parameter 11, Signal_Strength]\n",
       "Index: []"
      ]
     },
     "execution_count": 7,
     "metadata": {},
     "output_type": "execute_result"
    }
   ],
   "source": [
    "# dropping duplicate values\n",
    "data.drop_duplicates(keep=False,inplace=True)\n",
    "data[data.duplicated()]"
   ]
  },
  {
   "cell_type": "code",
   "execution_count": 8,
   "id": "e32c92b1",
   "metadata": {},
   "outputs": [
    {
     "name": "stdout",
     "output_type": "stream",
     "text": [
      "<class 'pandas.core.frame.DataFrame'>\n",
      "Int64Index: 1139 entries, 1 to 1598\n",
      "Data columns (total 12 columns):\n",
      " #   Column           Non-Null Count  Dtype  \n",
      "---  ------           --------------  -----  \n",
      " 0   Parameter 1      1139 non-null   float64\n",
      " 1   Parameter 2      1139 non-null   float64\n",
      " 2   Parameter 3      1139 non-null   float64\n",
      " 3   Parameter 4      1139 non-null   float64\n",
      " 4   Parameter 5      1139 non-null   float64\n",
      " 5   Parameter 6      1139 non-null   float64\n",
      " 6   Parameter 7      1139 non-null   float64\n",
      " 7   Parameter 8      1139 non-null   float64\n",
      " 8   Parameter 9      1139 non-null   float64\n",
      " 9   Parameter 10     1139 non-null   float64\n",
      " 10  Parameter 11     1139 non-null   float64\n",
      " 11  Signal_Strength  1139 non-null   int64  \n",
      "dtypes: float64(11), int64(1)\n",
      "memory usage: 115.7 KB\n"
     ]
    }
   ],
   "source": [
    "data.info()"
   ]
  },
  {
   "cell_type": "markdown",
   "id": "3ac22d59",
   "metadata": {},
   "source": [
    "## D. Visualise distribution of the target variable."
   ]
  },
  {
   "cell_type": "code",
   "execution_count": 9,
   "id": "dbaa8f9b",
   "metadata": {},
   "outputs": [
    {
     "name": "stderr",
     "output_type": "stream",
     "text": [
      "/Users/rohan/opt/anaconda3/lib/python3.8/site-packages/seaborn/_decorators.py:36: FutureWarning: Pass the following variable as a keyword arg: x. From version 0.12, the only valid positional argument will be `data`, and passing other arguments without an explicit keyword will result in an error or misinterpretation.\n",
      "  warnings.warn(\n"
     ]
    },
    {
     "data": {
      "image/png": "[encoded data removed]",
      "text/plain": [
       "<Figure size 432x288 with 1 Axes>"
      ]
     },
     "metadata": {
      "needs_background": "light"
     },
     "output_type": "display_data"
    }
   ],
   "source": [
    "# Signal Strength is the target variable\n",
    "sns.countplot(data['Signal_Strength']);"
   ]
  },
  {
   "cell_type": "code",
   "execution_count": 10,
   "id": "80abbd3c",
   "metadata": {},
   "outputs": [
    {
     "name": "stderr",
     "output_type": "stream",
     "text": [
      "/Users/rohan/opt/anaconda3/lib/python3.8/site-packages/seaborn/distributions.py:2557: FutureWarning: `distplot` is a deprecated function and will be removed in a future version. Please adapt your code to use either `displot` (a figure-level function with similar flexibility) or `histplot` (an axes-level function for histograms).\n",
      "  warnings.warn(msg, FutureWarning)\n"
     ]
    },
    {
     "data": {
      "image/png": "[encoded data removed]",
      "text/plain": [
       "<Figure size 432x288 with 1 Axes>"
      ]
     },
     "metadata": {
      "needs_background": "light"
     },
     "output_type": "display_data"
    }
   ],
   "source": [
    "sns.distplot(data['Signal_Strength']);"
   ]
  },
  {
   "cell_type": "code",
   "execution_count": 11,
   "id": "e808fc69",
   "metadata": {},
   "outputs": [
    {
     "name": "stderr",
     "output_type": "stream",
     "text": [
      "/Users/rohan/opt/anaconda3/lib/python3.8/site-packages/seaborn/_decorators.py:36: FutureWarning: Pass the following variable as a keyword arg: x. From version 0.12, the only valid positional argument will be `data`, and passing other arguments without an explicit keyword will result in an error or misinterpretation.\n",
      "  warnings.warn(\n"
     ]
    },
    {
     "data": {
      "image/png": "[encoded data removed]",
      "text/plain": [
       "<Figure size 432x288 with 1 Axes>"
      ]
     },
     "metadata": {
      "needs_background": "light"
     },
     "output_type": "display_data"
    }
   ],
   "source": [
    "sns.boxplot(data['Signal_Strength']);"
   ]
  },
  {
   "cell_type": "markdown",
   "id": "56dec348",
   "metadata": {},
   "source": [
    "## E. Share insights from the initial data analysis (at least 2)."
   ]
  },
  {
   "cell_type": "code",
   "execution_count": 1,
   "id": "eba4fbd2",
   "metadata": {},
   "outputs": [],
   "source": [
    "# Need to do\n"
   ]
  },
  {
   "cell_type": "code",
   "execution_count": 13,
   "id": "e793acc0",
   "metadata": {},
   "outputs": [
    {
     "data": {
      "image/png": "[encoded data removed]",
      "text/plain": [
       "<Figure size 720x720 with 2 Axes>"
      ]
     },
     "metadata": {
      "needs_background": "light"
     },
     "output_type": "display_data"
    }
   ],
   "source": [
    "fig, ax = plt.subplots(figsize=(10,10))\n",
    "sns.heatmap(data.corr(), annot=True, linewidths=.5, ax=ax);"
   ]
  },
  {
   "cell_type": "markdown",
   "id": "a4b9d962",
   "metadata": {},
   "source": [
    "* Parameter 1 and 9 are highly correlated (negatively).\n",
    "* Most of the equipments have a signal strength of 5 or 6."
   ]
  },
  {
   "cell_type": "markdown",
   "id": "e14d7090",
   "metadata": {},
   "source": [
    "# 2. Data preprocessing\n",
    "\n",
    "## A. Split the data into X & Y. "
   ]
  },
  {
   "cell_type": "code",
   "execution_count": 14,
   "id": "ed05fa7c",
   "metadata": {},
   "outputs": [
    {
     "data": {
      "text/html": [
       "<div>\n",
       "<style scoped>\n",
       "    .dataframe tbody tr th:only-of-type {\n",
       "        vertical-align: middle;\n",
       "    }\n",
       "\n",
       "    .dataframe tbody tr th {\n",
       "        vertical-align: top;\n",
       "    }\n",
       "\n",
       "    .dataframe thead th {\n",
       "        text-align: right;\n",
       "    }\n",
       "</style>\n",
       "<table border=\"1\" class=\"dataframe\">\n",
       "  <thead>\n",
       "    <tr style=\"text-align: right;\">\n",
       "      <th></th>\n",
       "      <th>Parameter 1</th>\n",
       "      <th>Parameter 2</th>\n",
       "      <th>Parameter 3</th>\n",
       "      <th>Parameter 4</th>\n",
       "      <th>Parameter 5</th>\n",
       "      <th>Parameter 6</th>\n",
       "      <th>Parameter 7</th>\n",
       "      <th>Parameter 8</th>\n",
       "      <th>Parameter 9</th>\n",
       "      <th>Parameter 10</th>\n",
       "      <th>Parameter 11</th>\n",
       "    </tr>\n",
       "  </thead>\n",
       "  <tbody>\n",
       "    <tr>\n",
       "      <th>1</th>\n",
       "      <td>7.8</td>\n",
       "      <td>0.88</td>\n",
       "      <td>0.00</td>\n",
       "      <td>2.6</td>\n",
       "      <td>0.098</td>\n",
       "      <td>25.0</td>\n",
       "      <td>67.0</td>\n",
       "      <td>0.9968</td>\n",
       "      <td>3.20</td>\n",
       "      <td>0.68</td>\n",
       "      <td>9.8</td>\n",
       "    </tr>\n",
       "    <tr>\n",
       "      <th>2</th>\n",
       "      <td>7.8</td>\n",
       "      <td>0.76</td>\n",
       "      <td>0.04</td>\n",
       "      <td>2.3</td>\n",
       "      <td>0.092</td>\n",
       "      <td>15.0</td>\n",
       "      <td>54.0</td>\n",
       "      <td>0.9970</td>\n",
       "      <td>3.26</td>\n",
       "      <td>0.65</td>\n",
       "      <td>9.8</td>\n",
       "    </tr>\n",
       "    <tr>\n",
       "      <th>3</th>\n",
       "      <td>11.2</td>\n",
       "      <td>0.28</td>\n",
       "      <td>0.56</td>\n",
       "      <td>1.9</td>\n",
       "      <td>0.075</td>\n",
       "      <td>17.0</td>\n",
       "      <td>60.0</td>\n",
       "      <td>0.9980</td>\n",
       "      <td>3.16</td>\n",
       "      <td>0.58</td>\n",
       "      <td>9.8</td>\n",
       "    </tr>\n",
       "    <tr>\n",
       "      <th>5</th>\n",
       "      <td>7.4</td>\n",
       "      <td>0.66</td>\n",
       "      <td>0.00</td>\n",
       "      <td>1.8</td>\n",
       "      <td>0.075</td>\n",
       "      <td>13.0</td>\n",
       "      <td>40.0</td>\n",
       "      <td>0.9978</td>\n",
       "      <td>3.51</td>\n",
       "      <td>0.56</td>\n",
       "      <td>9.4</td>\n",
       "    </tr>\n",
       "    <tr>\n",
       "      <th>6</th>\n",
       "      <td>7.9</td>\n",
       "      <td>0.60</td>\n",
       "      <td>0.06</td>\n",
       "      <td>1.6</td>\n",
       "      <td>0.069</td>\n",
       "      <td>15.0</td>\n",
       "      <td>59.0</td>\n",
       "      <td>0.9964</td>\n",
       "      <td>3.30</td>\n",
       "      <td>0.46</td>\n",
       "      <td>9.4</td>\n",
       "    </tr>\n",
       "  </tbody>\n",
       "</table>\n",
       "</div>"
      ],
      "text/plain": [
       "   Parameter 1  Parameter 2  Parameter 3  Parameter 4  Parameter 5  \\\n",
       "1          7.8         0.88         0.00          2.6        0.098   \n",
       "2          7.8         0.76         0.04          2.3        0.092   \n",
       "3         11.2         0.28         0.56          1.9        0.075   \n",
       "5          7.4         0.66         0.00          1.8        0.075   \n",
       "6          7.9         0.60         0.06          1.6        0.069   \n",
       "\n",
       "   Parameter 6  Parameter 7  Parameter 8  Parameter 9  Parameter 10  \\\n",
       "1         25.0         67.0       0.9968         3.20          0.68   \n",
       "2         15.0         54.0       0.9970         3.26          0.65   \n",
       "3         17.0         60.0       0.9980         3.16          0.58   \n",
       "5         13.0         40.0       0.9978         3.51          0.56   \n",
       "6         15.0         59.0       0.9964         3.30          0.46   \n",
       "\n",
       "   Parameter 11  \n",
       "1           9.8  \n",
       "2           9.8  \n",
       "3           9.8  \n",
       "5           9.4  \n",
       "6           9.4  "
      ]
     },
     "execution_count": 14,
     "metadata": {},
     "output_type": "execute_result"
    }
   ],
   "source": [
    "# Let independent variables be all the parameters\n",
    "X = data.drop(columns='Signal_Strength', axis=1)\n",
    "X.head()"
   ]
  },
  {
   "cell_type": "code",
   "execution_count": 15,
   "id": "eedcb734",
   "metadata": {},
   "outputs": [
    {
     "data": {
      "text/plain": [
       "1       5\n",
       "2       5\n",
       "3       6\n",
       "5       5\n",
       "6       5\n",
       "       ..\n",
       "1593    6\n",
       "1594    5\n",
       "1595    6\n",
       "1597    5\n",
       "1598    6\n",
       "Name: Signal_Strength, Length: 1139, dtype: int64"
      ]
     },
     "execution_count": 15,
     "metadata": {},
     "output_type": "execute_result"
    }
   ],
   "source": [
    "# The target variable is Signal_Strength\n",
    "y = data['Signal_Strength']\n",
    "y"
   ]
  },
  {
   "cell_type": "markdown",
   "id": "3aca408f",
   "metadata": {},
   "source": [
    "## B. Split the data into train & test with 70:30 proportion."
   ]
  },
  {
   "cell_type": "code",
   "execution_count": 16,
   "id": "3cd8e61e",
   "metadata": {},
   "outputs": [
    {
     "data": {
      "text/html": [
       "<div>\n",
       "<style scoped>\n",
       "    .dataframe tbody tr th:only-of-type {\n",
       "        vertical-align: middle;\n",
       "    }\n",
       "\n",
       "    .dataframe tbody tr th {\n",
       "        vertical-align: top;\n",
       "    }\n",
       "\n",
       "    .dataframe thead th {\n",
       "        text-align: right;\n",
       "    }\n",
       "</style>\n",
       "<table border=\"1\" class=\"dataframe\">\n",
       "  <thead>\n",
       "    <tr style=\"text-align: right;\">\n",
       "      <th></th>\n",
       "      <th>Parameter 1</th>\n",
       "      <th>Parameter 2</th>\n",
       "      <th>Parameter 3</th>\n",
       "      <th>Parameter 4</th>\n",
       "      <th>Parameter 5</th>\n",
       "      <th>Parameter 6</th>\n",
       "      <th>Parameter 7</th>\n",
       "      <th>Parameter 8</th>\n",
       "      <th>Parameter 9</th>\n",
       "      <th>Parameter 10</th>\n",
       "      <th>Parameter 11</th>\n",
       "    </tr>\n",
       "  </thead>\n",
       "  <tbody>\n",
       "    <tr>\n",
       "      <th>525</th>\n",
       "      <td>10.4</td>\n",
       "      <td>0.64</td>\n",
       "      <td>0.24</td>\n",
       "      <td>2.8</td>\n",
       "      <td>0.105</td>\n",
       "      <td>29.0</td>\n",
       "      <td>53.0</td>\n",
       "      <td>0.99980</td>\n",
       "      <td>3.24</td>\n",
       "      <td>0.67</td>\n",
       "      <td>9.9</td>\n",
       "    </tr>\n",
       "    <tr>\n",
       "      <th>1004</th>\n",
       "      <td>8.2</td>\n",
       "      <td>0.43</td>\n",
       "      <td>0.29</td>\n",
       "      <td>1.6</td>\n",
       "      <td>0.081</td>\n",
       "      <td>27.0</td>\n",
       "      <td>45.0</td>\n",
       "      <td>0.99603</td>\n",
       "      <td>3.25</td>\n",
       "      <td>0.54</td>\n",
       "      <td>10.3</td>\n",
       "    </tr>\n",
       "    <tr>\n",
       "      <th>58</th>\n",
       "      <td>7.8</td>\n",
       "      <td>0.59</td>\n",
       "      <td>0.18</td>\n",
       "      <td>2.3</td>\n",
       "      <td>0.076</td>\n",
       "      <td>17.0</td>\n",
       "      <td>54.0</td>\n",
       "      <td>0.99750</td>\n",
       "      <td>3.43</td>\n",
       "      <td>0.59</td>\n",
       "      <td>10.0</td>\n",
       "    </tr>\n",
       "    <tr>\n",
       "      <th>1317</th>\n",
       "      <td>9.9</td>\n",
       "      <td>0.44</td>\n",
       "      <td>0.46</td>\n",
       "      <td>2.2</td>\n",
       "      <td>0.091</td>\n",
       "      <td>10.0</td>\n",
       "      <td>41.0</td>\n",
       "      <td>0.99638</td>\n",
       "      <td>3.18</td>\n",
       "      <td>0.69</td>\n",
       "      <td>11.9</td>\n",
       "    </tr>\n",
       "    <tr>\n",
       "      <th>894</th>\n",
       "      <td>7.2</td>\n",
       "      <td>0.63</td>\n",
       "      <td>0.03</td>\n",
       "      <td>2.2</td>\n",
       "      <td>0.080</td>\n",
       "      <td>17.0</td>\n",
       "      <td>88.0</td>\n",
       "      <td>0.99745</td>\n",
       "      <td>3.53</td>\n",
       "      <td>0.58</td>\n",
       "      <td>9.8</td>\n",
       "    </tr>\n",
       "  </tbody>\n",
       "</table>\n",
       "</div>"
      ],
      "text/plain": [
       "      Parameter 1  Parameter 2  Parameter 3  Parameter 4  Parameter 5  \\\n",
       "525          10.4         0.64         0.24          2.8        0.105   \n",
       "1004          8.2         0.43         0.29          1.6        0.081   \n",
       "58            7.8         0.59         0.18          2.3        0.076   \n",
       "1317          9.9         0.44         0.46          2.2        0.091   \n",
       "894           7.2         0.63         0.03          2.2        0.080   \n",
       "\n",
       "      Parameter 6  Parameter 7  Parameter 8  Parameter 9  Parameter 10  \\\n",
       "525          29.0         53.0      0.99980         3.24          0.67   \n",
       "1004         27.0         45.0      0.99603         3.25          0.54   \n",
       "58           17.0         54.0      0.99750         3.43          0.59   \n",
       "1317         10.0         41.0      0.99638         3.18          0.69   \n",
       "894          17.0         88.0      0.99745         3.53          0.58   \n",
       "\n",
       "      Parameter 11  \n",
       "525            9.9  \n",
       "1004          10.3  \n",
       "58            10.0  \n",
       "1317          11.9  \n",
       "894            9.8  "
      ]
     },
     "execution_count": 16,
     "metadata": {},
     "output_type": "execute_result"
    }
   ],
   "source": [
    "\n",
    "from sklearn.model_selection import train_test_split\n",
    "\n",
    "X_train, X_test, y_train, y_test = train_test_split(X, y, test_size=0.3, random_state=1)\n",
    "\n",
    "X_train.head()"
   ]
  },
  {
   "cell_type": "markdown",
   "id": "848eb465",
   "metadata": {},
   "source": [
    "## C. Print shape of all the 4 variables and verify if train and test data is in sync. "
   ]
  },
  {
   "cell_type": "code",
   "execution_count": 17,
   "id": "5e961a50",
   "metadata": {},
   "outputs": [
    {
     "name": "stdout",
     "output_type": "stream",
     "text": [
      "Shape of Train Data of Independent Variables: (797, 11)\n",
      "Shape of Train Data of Target Variables: (797,)\n",
      "Shape of Test Data of Independent Variables: (342, 11)\n",
      "Shape of Test Data of Target Variables: (342,)\n"
     ]
    }
   ],
   "source": [
    "print('Shape of Train Data of Independent Variables:',X_train.shape)\n",
    "print('Shape of Train Data of Target Variables:',y_train.shape)\n",
    "print('Shape of Test Data of Independent Variables:',X_test.shape)\n",
    "print('Shape of Test Data of Target Variables:',y_test.shape)"
   ]
  },
  {
   "cell_type": "markdown",
   "id": "387bf4a8",
   "metadata": {},
   "source": [
    "## D. Normalise the train and test data with appropriate method. "
   ]
  },
  {
   "cell_type": "code",
   "execution_count": 18,
   "id": "10f735bb",
   "metadata": {},
   "outputs": [
    {
     "data": {
      "text/plain": [
       "array([[0.51327434, 0.41025641, 0.30379747, ..., 0.33043478, 0.20606061,\n",
       "        0.23076923],\n",
       "       [0.31858407, 0.23076923, 0.36708861, ..., 0.33913043, 0.12727273,\n",
       "        0.29230769],\n",
       "       [0.28318584, 0.36752137, 0.2278481 , ..., 0.49565217, 0.15757576,\n",
       "        0.24615385],\n",
       "       ...,\n",
       "       [0.57522124, 0.23931624, 0.53164557, ..., 0.33913043, 0.14545455,\n",
       "        0.30769231],\n",
       "       [0.3539823 , 0.26495726, 0.37974684, ..., 0.3826087 , 0.12121212,\n",
       "        0.15384615],\n",
       "       [0.23893805, 0.36324786, 0.2278481 , ..., 0.39130435, 0.12727273,\n",
       "        0.21538462]])"
      ]
     },
     "execution_count": 18,
     "metadata": {},
     "output_type": "execute_result"
    }
   ],
   "source": [
    "\n",
    "from sklearn.preprocessing import MinMaxScaler\n",
    "\n",
    "# define min max scaler\n",
    "scaler = MinMaxScaler()\n",
    "\n",
    "X_train_scaled = scaler.fit_transform(X_train)\n",
    "X_train_scaled"
   ]
  },
  {
   "cell_type": "code",
   "execution_count": 19,
   "id": "ac50e29c",
   "metadata": {},
   "outputs": [
    {
     "data": {
      "text/plain": [
       "array([[0.34513274, 0.23931624, 0.63291139, ..., 0.13043478, 0.46666667,\n",
       "        0.15384615],\n",
       "       [0.24778761, 0.16239316, 0.41772152, ..., 0.43478261, 0.16363636,\n",
       "        0.53846154],\n",
       "       [0.48672566, 0.09401709, 0.6835443 , ..., 0.26956522, 0.12121212,\n",
       "        0.63076923],\n",
       "       ...,\n",
       "       [0.21238938, 0.23076923, 0.02531646, ..., 0.42608696, 0.29090909,\n",
       "        0.33846154],\n",
       "       [0.20353982, 0.24786325, 0.13924051, ..., 0.3826087 , 0.19393939,\n",
       "        0.46153846],\n",
       "       [0.36283186, 0.51709402, 0.27848101, ..., 0.20869565, 0.13333333,\n",
       "        0.15384615]])"
      ]
     },
     "execution_count": 19,
     "metadata": {},
     "output_type": "execute_result"
    }
   ],
   "source": [
    "# transform test data\n",
    "X_test_scaled = scaler.transform(X_test)\n",
    "X_test_scaled"
   ]
  },
  {
   "cell_type": "markdown",
   "id": "5d44f70e",
   "metadata": {},
   "source": [
    "## E. Transform Labels into format acceptable by Neural Network"
   ]
  },
  {
   "cell_type": "code",
   "execution_count": 20,
   "id": "775f8ffd",
   "metadata": {},
   "outputs": [
    {
     "data": {
      "text/plain": [
       "array([5, 6, 7, 4, 8, 3])"
      ]
     },
     "execution_count": 20,
     "metadata": {},
     "output_type": "execute_result"
    }
   ],
   "source": [
    "# The target variable Signal_Strength has following values\n",
    "y.unique()"
   ]
  },
  {
   "cell_type": "code",
   "execution_count": 21,
   "id": "f4e2a9da",
   "metadata": {},
   "outputs": [
    {
     "data": {
      "text/plain": [
       "array([5, 6, 7, 3, 4, 8])"
      ]
     },
     "execution_count": 21,
     "metadata": {},
     "output_type": "execute_result"
    }
   ],
   "source": [
    "# Training target has following unique values\n",
    "y_train.unique()"
   ]
  },
  {
   "cell_type": "code",
   "execution_count": 22,
   "id": "250807a3",
   "metadata": {},
   "outputs": [
    {
     "data": {
      "text/plain": [
       "array([[0., 0., 0., ..., 0., 0., 0.],\n",
       "       [0., 0., 0., ..., 0., 0., 0.],\n",
       "       [0., 0., 0., ..., 0., 0., 0.],\n",
       "       ...,\n",
       "       [0., 0., 0., ..., 1., 0., 0.],\n",
       "       [0., 0., 0., ..., 0., 0., 0.],\n",
       "       [0., 0., 0., ..., 0., 0., 0.]], dtype=float32)"
      ]
     },
     "execution_count": 22,
     "metadata": {},
     "output_type": "execute_result"
    }
   ],
   "source": [
    "# convert integers to dummy variables (i.e. one hot encoded)\n",
    "from keras.utils import np_utils\n",
    "dummy_y_train = np_utils.to_categorical(y_train)\n",
    "dummy_y_train"
   ]
  },
  {
   "cell_type": "code",
   "execution_count": 23,
   "id": "4290244b",
   "metadata": {},
   "outputs": [
    {
     "name": "stdout",
     "output_type": "stream",
     "text": [
      "5\n",
      "[0. 0. 0. 0. 0. 1. 0. 0. 0.]\n"
     ]
    }
   ],
   "source": [
    "print(y_train[1])\n",
    "print(dummy_y_train[0])"
   ]
  },
  {
   "cell_type": "code",
   "execution_count": 24,
   "id": "d27af88b",
   "metadata": {},
   "outputs": [
    {
     "data": {
      "text/plain": [
       "array([5, 6, 7, 8, 4, 3])"
      ]
     },
     "execution_count": 24,
     "metadata": {},
     "output_type": "execute_result"
    }
   ],
   "source": [
    "\n",
    "y_test.unique()"
   ]
  },
  {
   "cell_type": "code",
   "execution_count": 25,
   "id": "3d68abcb",
   "metadata": {},
   "outputs": [
    {
     "data": {
      "text/plain": [
       "array([[0., 0., 0., ..., 0., 0., 0.],\n",
       "       [0., 0., 0., ..., 1., 0., 0.],\n",
       "       [0., 0., 0., ..., 1., 0., 0.],\n",
       "       ...,\n",
       "       [0., 0., 0., ..., 1., 0., 0.],\n",
       "       [0., 0., 0., ..., 1., 0., 0.],\n",
       "       [0., 0., 0., ..., 0., 0., 0.]], dtype=float32)"
      ]
     },
     "execution_count": 25,
     "metadata": {},
     "output_type": "execute_result"
    }
   ],
   "source": [
    "# Apply the same letter transformation to test target labels\n",
    "dummy_y_test = np_utils.to_categorical(y_test)\n",
    "dummy_y_test"
   ]
  },
  {
   "cell_type": "code",
   "execution_count": 26,
   "id": "1c49acc4",
   "metadata": {},
   "outputs": [
    {
     "data": {
      "text/plain": [
       "array([0., 0., 0., 0., 0., 1., 0., 0., 0.], dtype=float32)"
      ]
     },
     "execution_count": 26,
     "metadata": {},
     "output_type": "execute_result"
    }
   ],
   "source": [
    "dummy_y_test[0]"
   ]
  },
  {
   "cell_type": "code",
   "execution_count": 27,
   "id": "40320112",
   "metadata": {},
   "outputs": [
    {
     "data": {
      "text/plain": [
       "(797, 11)"
      ]
     },
     "execution_count": 27,
     "metadata": {},
     "output_type": "execute_result"
    }
   ],
   "source": [
    "X_train_scaled.shape"
   ]
  },
  {
   "cell_type": "markdown",
   "id": "7541dbab",
   "metadata": {},
   "source": [
    "# 3. Model Training & Evaluation using Neural Network\n",
    "\n",
    "## A. Design a Neural Network to train a classifier."
   ]
  },
  {
   "cell_type": "code",
   "execution_count": 28,
   "id": "33014b5c",
   "metadata": {},
   "outputs": [
    {
     "name": "stdout",
     "output_type": "stream",
     "text": [
      "Model: \"sequential\"\n",
      "_________________________________________________________________\n",
      "Layer (type)                 Output Shape              Param #   \n",
      "=================================================================\n",
      "dense (Dense)                (None, 10)                120       \n",
      "_________________________________________________________________\n",
      "dense_1 (Dense)              (None, 10)                110       \n",
      "_________________________________________________________________\n",
      "dense_2 (Dense)              (None, 9)                 99        \n",
      "=================================================================\n",
      "Total params: 329\n",
      "Trainable params: 329\n",
      "Non-trainable params: 0\n",
      "_________________________________________________________________\n"
     ]
    }
   ],
   "source": [
    "# Import Libraries\n",
    "import tensorflow as tf\n",
    "tf.__version__\n",
    "#import keras\n",
    "from tensorflow.keras.models import Sequential\n",
    "from tensorflow.keras.layers import Dense, Dropout, BatchNormalization\n",
    "from sklearn.metrics import accuracy_score, confusion_matrix, precision_score, recall_score, f1_score, precision_recall_curve, auc\n",
    "from tensorflow.keras import optimizers\n",
    "\n",
    "# Design the NN\n",
    "classifier = Sequential()\n",
    "\n",
    "# Input Layer\n",
    "classifier.add(Dense(activation = 'relu', input_dim = 11, units=10, kernel_initializer='uniform'))\n",
    "\n",
    "# Add 1st hidden layer\n",
    "classifier.add(Dense(10, activation='sigmoid', kernel_initializer='uniform'))\n",
    "\n",
    "# Add output layer\n",
    "classifier.add(Dense(9, activation = 'softmax', kernel_initializer='uniform'))\n",
    "\n",
    "# Compile the model\n",
    "classifier.compile(optimizer='sgd', loss='categorical_crossentropy', metrics=['accuracy'])\n",
    "\n",
    "# Network Summary\n",
    "classifier.summary()"
   ]
  },
  {
   "cell_type": "markdown",
   "id": "4d65811d",
   "metadata": {},
   "source": [
    "## B. Train the classifier using previously designed Architecture "
   ]
  },
  {
   "cell_type": "code",
   "execution_count": 29,
   "id": "1a77625e",
   "metadata": {},
   "outputs": [
    {
     "name": "stdout",
     "output_type": "stream",
     "text": [
      "Epoch 1/100\n",
      "25/25 [==============================] - 3s 72ms/step - loss: 2.1947 - accuracy: 0.1755 - val_loss: 2.0521 - val_accuracy: 0.3918\n",
      "Epoch 2/100\n",
      "25/25 [==============================] - 0s 8ms/step - loss: 2.0063 - accuracy: 0.4019 - val_loss: 1.8953 - val_accuracy: 0.3918\n",
      "Epoch 3/100\n",
      "25/25 [==============================] - 0s 6ms/step - loss: 1.8560 - accuracy: 0.3774 - val_loss: 1.7717 - val_accuracy: 0.4181\n",
      "Epoch 4/100\n",
      "25/25 [==============================] - 0s 8ms/step - loss: 1.7498 - accuracy: 0.4066 - val_loss: 1.6754 - val_accuracy: 0.4181\n",
      "Epoch 5/100\n",
      "25/25 [==============================] - 0s 6ms/step - loss: 1.6537 - accuracy: 0.4326 - val_loss: 1.6013 - val_accuracy: 0.4181\n",
      "Epoch 6/100\n",
      "25/25 [==============================] - 0s 5ms/step - loss: 1.5854 - accuracy: 0.4369 - val_loss: 1.5443 - val_accuracy: 0.4181\n",
      "Epoch 7/100\n",
      "25/25 [==============================] - 0s 6ms/step - loss: 1.5419 - accuracy: 0.4263 - val_loss: 1.5000 - val_accuracy: 0.4181\n",
      "Epoch 8/100\n",
      "25/25 [==============================] - 0s 7ms/step - loss: 1.4989 - accuracy: 0.4058 - val_loss: 1.4653 - val_accuracy: 0.4181\n",
      "Epoch 9/100\n",
      "25/25 [==============================] - 0s 5ms/step - loss: 1.4625 - accuracy: 0.4128 - val_loss: 1.4379 - val_accuracy: 0.4181\n",
      "Epoch 10/100\n",
      "25/25 [==============================] - 0s 8ms/step - loss: 1.4526 - accuracy: 0.4175 - val_loss: 1.4158 - val_accuracy: 0.4181\n",
      "Epoch 11/100\n",
      "25/25 [==============================] - 0s 6ms/step - loss: 1.4122 - accuracy: 0.4247 - val_loss: 1.3980 - val_accuracy: 0.4181\n",
      "Epoch 12/100\n",
      "25/25 [==============================] - 0s 5ms/step - loss: 1.3426 - accuracy: 0.4305 - val_loss: 1.3833 - val_accuracy: 0.4181\n",
      "Epoch 13/100\n",
      "25/25 [==============================] - 0s 6ms/step - loss: 1.3589 - accuracy: 0.4433 - val_loss: 1.3710 - val_accuracy: 0.4181\n",
      "Epoch 14/100\n",
      "25/25 [==============================] - 0s 6ms/step - loss: 1.3877 - accuracy: 0.3839 - val_loss: 1.3606 - val_accuracy: 0.4181\n",
      "Epoch 15/100\n",
      "25/25 [==============================] - 0s 8ms/step - loss: 1.3626 - accuracy: 0.4290 - val_loss: 1.3516 - val_accuracy: 0.4181\n",
      "Epoch 16/100\n",
      "25/25 [==============================] - 0s 6ms/step - loss: 1.3445 - accuracy: 0.4205 - val_loss: 1.3439 - val_accuracy: 0.4181\n",
      "Epoch 17/100\n",
      "25/25 [==============================] - 0s 5ms/step - loss: 1.3494 - accuracy: 0.4167 - val_loss: 1.3372 - val_accuracy: 0.4181\n",
      "Epoch 18/100\n",
      "25/25 [==============================] - 0s 4ms/step - loss: 1.3352 - accuracy: 0.4374 - val_loss: 1.3312 - val_accuracy: 0.4181\n",
      "Epoch 19/100\n",
      "25/25 [==============================] - 0s 5ms/step - loss: 1.3205 - accuracy: 0.4308 - val_loss: 1.3260 - val_accuracy: 0.4181\n",
      "Epoch 20/100\n",
      "25/25 [==============================] - 0s 8ms/step - loss: 1.2887 - accuracy: 0.4136 - val_loss: 1.3213 - val_accuracy: 0.4181\n",
      "Epoch 21/100\n",
      "25/25 [==============================] - 0s 6ms/step - loss: 1.3139 - accuracy: 0.4202 - val_loss: 1.3171 - val_accuracy: 0.4181\n",
      "Epoch 22/100\n",
      "25/25 [==============================] - 0s 7ms/step - loss: 1.3150 - accuracy: 0.4130 - val_loss: 1.3133 - val_accuracy: 0.4181\n",
      "Epoch 23/100\n",
      "25/25 [==============================] - 0s 8ms/step - loss: 1.3149 - accuracy: 0.4213 - val_loss: 1.3098 - val_accuracy: 0.4181\n",
      "Epoch 24/100\n",
      "25/25 [==============================] - 0s 4ms/step - loss: 1.2619 - accuracy: 0.4375 - val_loss: 1.3067 - val_accuracy: 0.4181\n",
      "Epoch 25/100\n",
      "25/25 [==============================] - 0s 5ms/step - loss: 1.2723 - accuracy: 0.4456 - val_loss: 1.3038 - val_accuracy: 0.4181\n",
      "Epoch 26/100\n",
      "25/25 [==============================] - 0s 5ms/step - loss: 1.2731 - accuracy: 0.4428 - val_loss: 1.3012 - val_accuracy: 0.4181\n",
      "Epoch 27/100\n",
      "25/25 [==============================] - 0s 5ms/step - loss: 1.2660 - accuracy: 0.4392 - val_loss: 1.2987 - val_accuracy: 0.4181\n",
      "Epoch 28/100\n",
      "25/25 [==============================] - 0s 4ms/step - loss: 1.2973 - accuracy: 0.4103 - val_loss: 1.2965 - val_accuracy: 0.4181\n",
      "Epoch 29/100\n",
      "25/25 [==============================] - 0s 6ms/step - loss: 1.2877 - accuracy: 0.4280 - val_loss: 1.2944 - val_accuracy: 0.4181\n",
      "Epoch 30/100\n",
      "25/25 [==============================] - 0s 6ms/step - loss: 1.2973 - accuracy: 0.4219 - val_loss: 1.2925 - val_accuracy: 0.4181\n",
      "Epoch 31/100\n",
      "25/25 [==============================] - 0s 6ms/step - loss: 1.2982 - accuracy: 0.4226 - val_loss: 1.2907 - val_accuracy: 0.4181\n",
      "Epoch 32/100\n",
      "25/25 [==============================] - 0s 4ms/step - loss: 1.2386 - accuracy: 0.4393 - val_loss: 1.2890 - val_accuracy: 0.4181\n",
      "Epoch 33/100\n",
      "25/25 [==============================] - 0s 4ms/step - loss: 1.2571 - accuracy: 0.4173 - val_loss: 1.2875 - val_accuracy: 0.4181\n",
      "Epoch 34/100\n",
      "25/25 [==============================] - 0s 5ms/step - loss: 1.2508 - accuracy: 0.4241 - val_loss: 1.2861 - val_accuracy: 0.4181\n",
      "Epoch 35/100\n",
      "25/25 [==============================] - 0s 6ms/step - loss: 1.2805 - accuracy: 0.4216 - val_loss: 1.2847 - val_accuracy: 0.4181\n",
      "Epoch 36/100\n",
      "25/25 [==============================] - 0s 7ms/step - loss: 1.2411 - accuracy: 0.4215 - val_loss: 1.2835 - val_accuracy: 0.4181\n",
      "Epoch 37/100\n",
      "25/25 [==============================] - 0s 5ms/step - loss: 1.2743 - accuracy: 0.4447 - val_loss: 1.2823 - val_accuracy: 0.4181\n",
      "Epoch 38/100\n",
      "25/25 [==============================] - 0s 6ms/step - loss: 1.2861 - accuracy: 0.4116 - val_loss: 1.2812 - val_accuracy: 0.4181\n",
      "Epoch 39/100\n",
      "25/25 [==============================] - 0s 6ms/step - loss: 1.2728 - accuracy: 0.4444 - val_loss: 1.2802 - val_accuracy: 0.4181\n",
      "Epoch 40/100\n",
      "25/25 [==============================] - 0s 7ms/step - loss: 1.2567 - accuracy: 0.4200 - val_loss: 1.2792 - val_accuracy: 0.4181\n",
      "Epoch 41/100\n",
      "25/25 [==============================] - 0s 8ms/step - loss: 1.2487 - accuracy: 0.4638 - val_loss: 1.2782 - val_accuracy: 0.4181\n",
      "Epoch 42/100\n",
      "25/25 [==============================] - 0s 6ms/step - loss: 1.2477 - accuracy: 0.4492 - val_loss: 1.2774 - val_accuracy: 0.4181\n",
      "Epoch 43/100\n",
      "25/25 [==============================] - 0s 9ms/step - loss: 1.2395 - accuracy: 0.4355 - val_loss: 1.2766 - val_accuracy: 0.4181\n",
      "Epoch 44/100\n",
      "25/25 [==============================] - 0s 8ms/step - loss: 1.2623 - accuracy: 0.4338 - val_loss: 1.2758 - val_accuracy: 0.4181\n",
      "Epoch 45/100\n",
      "25/25 [==============================] - 0s 6ms/step - loss: 1.2120 - accuracy: 0.4355 - val_loss: 1.2751 - val_accuracy: 0.4181\n",
      "Epoch 46/100\n",
      "25/25 [==============================] - 0s 12ms/step - loss: 1.2820 - accuracy: 0.4282 - val_loss: 1.2744 - val_accuracy: 0.4181\n",
      "Epoch 47/100\n",
      "25/25 [==============================] - 0s 7ms/step - loss: 1.2520 - accuracy: 0.4409 - val_loss: 1.2738 - val_accuracy: 0.4181\n",
      "Epoch 48/100\n",
      "25/25 [==============================] - 0s 10ms/step - loss: 1.2516 - accuracy: 0.4399 - val_loss: 1.2731 - val_accuracy: 0.4181\n",
      "Epoch 49/100\n",
      "25/25 [==============================] - 0s 10ms/step - loss: 1.2495 - accuracy: 0.4186 - val_loss: 1.2726 - val_accuracy: 0.4181\n",
      "Epoch 50/100\n",
      "25/25 [==============================] - 0s 7ms/step - loss: 1.2752 - accuracy: 0.4236 - val_loss: 1.2720 - val_accuracy: 0.4181\n",
      "Epoch 51/100\n",
      "25/25 [==============================] - 0s 7ms/step - loss: 1.2654 - accuracy: 0.4258 - val_loss: 1.2715 - val_accuracy: 0.4181\n",
      "Epoch 52/100\n",
      "25/25 [==============================] - 0s 6ms/step - loss: 1.2652 - accuracy: 0.3891 - val_loss: 1.2710 - val_accuracy: 0.4181\n",
      "Epoch 53/100\n",
      "25/25 [==============================] - 0s 6ms/step - loss: 1.2379 - accuracy: 0.4064 - val_loss: 1.2706 - val_accuracy: 0.4181\n",
      "Epoch 54/100\n",
      "25/25 [==============================] - 0s 3ms/step - loss: 1.2976 - accuracy: 0.4122 - val_loss: 1.2701 - val_accuracy: 0.4181\n",
      "Epoch 55/100\n",
      "25/25 [==============================] - 0s 3ms/step - loss: 1.2498 - accuracy: 0.4445 - val_loss: 1.2697 - val_accuracy: 0.4181\n",
      "Epoch 56/100\n",
      "25/25 [==============================] - 0s 4ms/step - loss: 1.2446 - accuracy: 0.4490 - val_loss: 1.2692 - val_accuracy: 0.4181\n",
      "Epoch 57/100\n",
      "25/25 [==============================] - 0s 4ms/step - loss: 1.2825 - accuracy: 0.4059 - val_loss: 1.2689 - val_accuracy: 0.4181\n",
      "Epoch 58/100\n",
      "25/25 [==============================] - 0s 4ms/step - loss: 1.3018 - accuracy: 0.3918 - val_loss: 1.2685 - val_accuracy: 0.4181\n"
     ]
    },
    {
     "name": "stdout",
     "output_type": "stream",
     "text": [
      "Epoch 59/100\n",
      "25/25 [==============================] - 0s 4ms/step - loss: 1.2909 - accuracy: 0.4053 - val_loss: 1.2682 - val_accuracy: 0.4181\n",
      "Epoch 60/100\n",
      "25/25 [==============================] - 0s 4ms/step - loss: 1.2596 - accuracy: 0.4004 - val_loss: 1.2678 - val_accuracy: 0.4181\n",
      "Epoch 61/100\n",
      "25/25 [==============================] - 0s 3ms/step - loss: 1.2179 - accuracy: 0.4326 - val_loss: 1.2675 - val_accuracy: 0.4181\n",
      "Epoch 62/100\n",
      "25/25 [==============================] - 0s 4ms/step - loss: 1.2011 - accuracy: 0.4623 - val_loss: 1.2671 - val_accuracy: 0.4181\n",
      "Epoch 63/100\n",
      "25/25 [==============================] - 0s 4ms/step - loss: 1.2469 - accuracy: 0.4056 - val_loss: 1.2669 - val_accuracy: 0.4181\n",
      "Epoch 64/100\n",
      "25/25 [==============================] - 0s 4ms/step - loss: 1.2301 - accuracy: 0.4509 - val_loss: 1.2666 - val_accuracy: 0.4181\n",
      "Epoch 65/100\n",
      "25/25 [==============================] - 0s 4ms/step - loss: 1.2744 - accuracy: 0.4057 - val_loss: 1.2663 - val_accuracy: 0.4181\n",
      "Epoch 66/100\n",
      "25/25 [==============================] - 0s 3ms/step - loss: 1.2719 - accuracy: 0.4315 - val_loss: 1.2661 - val_accuracy: 0.4181\n",
      "Epoch 67/100\n",
      "25/25 [==============================] - 0s 3ms/step - loss: 1.2525 - accuracy: 0.4223 - val_loss: 1.2658 - val_accuracy: 0.4181\n",
      "Epoch 68/100\n",
      "25/25 [==============================] - 0s 3ms/step - loss: 1.2612 - accuracy: 0.3938 - val_loss: 1.2656 - val_accuracy: 0.4181\n",
      "Epoch 69/100\n",
      "25/25 [==============================] - 0s 3ms/step - loss: 1.2547 - accuracy: 0.4049 - val_loss: 1.2654 - val_accuracy: 0.4181\n",
      "Epoch 70/100\n",
      "25/25 [==============================] - 0s 4ms/step - loss: 1.2510 - accuracy: 0.4141 - val_loss: 1.2651 - val_accuracy: 0.4181\n",
      "Epoch 71/100\n",
      "25/25 [==============================] - 0s 7ms/step - loss: 1.2477 - accuracy: 0.4076 - val_loss: 1.2649 - val_accuracy: 0.4181\n",
      "Epoch 72/100\n",
      "25/25 [==============================] - 0s 10ms/step - loss: 1.2674 - accuracy: 0.4307 - val_loss: 1.2647 - val_accuracy: 0.4181\n",
      "Epoch 73/100\n",
      "25/25 [==============================] - 0s 12ms/step - loss: 1.2443 - accuracy: 0.4149 - val_loss: 1.2645 - val_accuracy: 0.4181\n",
      "Epoch 74/100\n",
      "25/25 [==============================] - 0s 6ms/step - loss: 1.2320 - accuracy: 0.4268 - val_loss: 1.2643 - val_accuracy: 0.4181\n",
      "Epoch 75/100\n",
      "25/25 [==============================] - 0s 4ms/step - loss: 1.2053 - accuracy: 0.4260 - val_loss: 1.2642 - val_accuracy: 0.4181\n",
      "Epoch 76/100\n",
      "25/25 [==============================] - 0s 4ms/step - loss: 1.2345 - accuracy: 0.4052 - val_loss: 1.2640 - val_accuracy: 0.4181\n",
      "Epoch 77/100\n",
      "25/25 [==============================] - 0s 4ms/step - loss: 1.2019 - accuracy: 0.4258 - val_loss: 1.2638 - val_accuracy: 0.4181\n",
      "Epoch 78/100\n",
      "25/25 [==============================] - 0s 4ms/step - loss: 1.2594 - accuracy: 0.4178 - val_loss: 1.2637 - val_accuracy: 0.4181\n",
      "Epoch 79/100\n",
      "25/25 [==============================] - 0s 4ms/step - loss: 1.2519 - accuracy: 0.3972 - val_loss: 1.2635 - val_accuracy: 0.4181\n",
      "Epoch 80/100\n",
      "25/25 [==============================] - 0s 4ms/step - loss: 1.2464 - accuracy: 0.4139 - val_loss: 1.2634 - val_accuracy: 0.4181\n",
      "Epoch 81/100\n",
      "25/25 [==============================] - 0s 3ms/step - loss: 1.2589 - accuracy: 0.4168 - val_loss: 1.2632 - val_accuracy: 0.4181\n",
      "Epoch 82/100\n",
      "25/25 [==============================] - 0s 3ms/step - loss: 1.2260 - accuracy: 0.4177 - val_loss: 1.2631 - val_accuracy: 0.4181\n",
      "Epoch 83/100\n",
      "25/25 [==============================] - 0s 4ms/step - loss: 1.2418 - accuracy: 0.4381 - val_loss: 1.2629 - val_accuracy: 0.4181\n",
      "Epoch 84/100\n",
      "25/25 [==============================] - 0s 4ms/step - loss: 1.2659 - accuracy: 0.4122 - val_loss: 1.2628 - val_accuracy: 0.4181\n",
      "Epoch 85/100\n",
      "25/25 [==============================] - 0s 4ms/step - loss: 1.2592 - accuracy: 0.3988 - val_loss: 1.2627 - val_accuracy: 0.4181\n",
      "Epoch 86/100\n",
      "25/25 [==============================] - 0s 3ms/step - loss: 1.2183 - accuracy: 0.4292 - val_loss: 1.2626 - val_accuracy: 0.4181\n",
      "Epoch 87/100\n",
      "25/25 [==============================] - 0s 3ms/step - loss: 1.2343 - accuracy: 0.4193 - val_loss: 1.2624 - val_accuracy: 0.4181\n",
      "Epoch 88/100\n",
      "25/25 [==============================] - 0s 3ms/step - loss: 1.2362 - accuracy: 0.4357 - val_loss: 1.2623 - val_accuracy: 0.4181\n",
      "Epoch 89/100\n",
      "25/25 [==============================] - 0s 3ms/step - loss: 1.2555 - accuracy: 0.3950 - val_loss: 1.2622 - val_accuracy: 0.4181\n",
      "Epoch 90/100\n",
      "25/25 [==============================] - 0s 3ms/step - loss: 1.2408 - accuracy: 0.4121 - val_loss: 1.2621 - val_accuracy: 0.4181\n",
      "Epoch 91/100\n",
      "25/25 [==============================] - 0s 3ms/step - loss: 1.2494 - accuracy: 0.3850 - val_loss: 1.2620 - val_accuracy: 0.4181\n",
      "Epoch 92/100\n",
      "25/25 [==============================] - 0s 4ms/step - loss: 1.2513 - accuracy: 0.4289 - val_loss: 1.2619 - val_accuracy: 0.4181\n",
      "Epoch 93/100\n",
      "25/25 [==============================] - 0s 7ms/step - loss: 1.2670 - accuracy: 0.4300 - val_loss: 1.2618 - val_accuracy: 0.4181\n",
      "Epoch 94/100\n",
      "25/25 [==============================] - 0s 4ms/step - loss: 1.2338 - accuracy: 0.4291 - val_loss: 1.2617 - val_accuracy: 0.4181\n",
      "Epoch 95/100\n",
      "25/25 [==============================] - 0s 4ms/step - loss: 1.2470 - accuracy: 0.4157 - val_loss: 1.2616 - val_accuracy: 0.4181\n",
      "Epoch 96/100\n",
      "25/25 [==============================] - 0s 5ms/step - loss: 1.2354 - accuracy: 0.4443 - val_loss: 1.2615 - val_accuracy: 0.4181\n",
      "Epoch 97/100\n",
      "25/25 [==============================] - 0s 10ms/step - loss: 1.2863 - accuracy: 0.4068 - val_loss: 1.2614 - val_accuracy: 0.4181\n",
      "Epoch 98/100\n",
      "25/25 [==============================] - 0s 5ms/step - loss: 1.2459 - accuracy: 0.4129 - val_loss: 1.2613 - val_accuracy: 0.4181\n",
      "Epoch 99/100\n",
      "25/25 [==============================] - 0s 5ms/step - loss: 1.2550 - accuracy: 0.4413 - val_loss: 1.2612 - val_accuracy: 0.4181\n",
      "Epoch 100/100\n",
      "25/25 [==============================] - 0s 4ms/step - loss: 1.2674 - accuracy: 0.4088 - val_loss: 1.2611 - val_accuracy: 0.4181\n"
     ]
    }
   ],
   "source": [
    "training = classifier.fit(X_train_scaled, dummy_y_train, \n",
    "               validation_data=(X_test_scaled,dummy_y_test), \n",
    "               epochs=100, batch_size=32)"
   ]
  },
  {
   "cell_type": "markdown",
   "id": "f42b7562",
   "metadata": {},
   "source": [
    "## C. Plot 2 separate visuals.\n",
    "\n",
    "    i. Training Loss and Validation Loss"
   ]
  },
  {
   "cell_type": "code",
   "execution_count": 30,
   "id": "d2e7d3f8",
   "metadata": {},
   "outputs": [
    {
     "name": "stdout",
     "output_type": "stream",
     "text": [
      "dict_keys(['loss', 'accuracy', 'val_loss', 'val_accuracy'])\n"
     ]
    }
   ],
   "source": [
    "# list all data in history\n",
    "print(training.history.keys())"
   ]
  },
  {
   "cell_type": "code",
   "execution_count": 31,
   "id": "f45fb693",
   "metadata": {},
   "outputs": [
    {
     "name": "stderr",
     "output_type": "stream",
     "text": [
      "<ipython-input-31-e15c834d1442>:8: UserWarning: Matplotlib is currently using agg, which is a non-GUI backend, so cannot show the figure.\n",
      "  plt.show()\n"
     ]
    },
    {
     "data": {
      "image/png": "[encoded data removed]",
      "text/plain": [
       "<Figure size 432x288 with 1 Axes>"
      ]
     },
     "metadata": {
      "needs_background": "light"
     },
     "output_type": "display_data"
    }
   ],
   "source": [
    "# summarize history for loss\n",
    "plt.plot(training.history['loss'])\n",
    "plt.plot(training.history['val_loss'])\n",
    "plt.title('model loss')\n",
    "plt.ylabel('loss')\n",
    "plt.xlabel('epoch')\n",
    "plt.legend(['train', 'test'], loc='upper left')\n",
    "plt.show()"
   ]
  },
  {
   "cell_type": "markdown",
   "id": "9e27d538",
   "metadata": {},
   "source": [
    "    ii. Training Accuracy and Validation Accuracy"
   ]
  },
  {
   "cell_type": "code",
   "execution_count": 32,
   "id": "a999fd6b",
   "metadata": {},
   "outputs": [
    {
     "name": "stderr",
     "output_type": "stream",
     "text": [
      "<ipython-input-32-5a00ee743493>:8: UserWarning: Matplotlib is currently using agg, which is a non-GUI backend, so cannot show the figure.\n",
      "  plt.show()\n"
     ]
    },
    {
     "data": {
      "image/png": "[encoded data removed]",
      "text/plain": [
       "<Figure size 432x288 with 1 Axes>"
      ]
     },
     "metadata": {
      "needs_background": "light"
     },
     "output_type": "display_data"
    }
   ],
   "source": [
    "# summarize history for accuracy\n",
    "plt.plot(training.history['accuracy'])\n",
    "plt.plot(training.history['val_accuracy'])\n",
    "plt.title('model accuracy')\n",
    "plt.ylabel('accuracy')\n",
    "plt.xlabel('epoch')\n",
    "plt.legend(['train', 'test'], loc='upper left')\n",
    "plt.show()"
   ]
  },
  {
   "cell_type": "markdown",
   "id": "6b2b0500",
   "metadata": {},
   "source": [
    "## D. Design new architecture/update existing architecture in attempt to improve the performance of the model. "
   ]
  },
  {
   "cell_type": "code",
   "execution_count": 33,
   "id": "e917454a",
   "metadata": {},
   "outputs": [
    {
     "name": "stdout",
     "output_type": "stream",
     "text": [
      "Model: \"sequential_1\"\n",
      "_________________________________________________________________\n",
      "Layer (type)                 Output Shape              Param #   \n",
      "=================================================================\n",
      "dense_3 (Dense)              (None, 9)                 108       \n",
      "_________________________________________________________________\n",
      "batch_normalization (BatchNo (None, 9)                 36        \n",
      "_________________________________________________________________\n",
      "dropout (Dropout)            (None, 9)                 0         \n",
      "_________________________________________________________________\n",
      "dense_4 (Dense)              (None, 9)                 90        \n",
      "_________________________________________________________________\n",
      "batch_normalization_1 (Batch (None, 9)                 36        \n",
      "_________________________________________________________________\n",
      "dropout_1 (Dropout)          (None, 9)                 0         \n",
      "_________________________________________________________________\n",
      "dense_5 (Dense)              (None, 9)                 90        \n",
      "=================================================================\n",
      "Total params: 360\n",
      "Trainable params: 324\n",
      "Non-trainable params: 36\n",
      "_________________________________________________________________\n"
     ]
    }
   ],
   "source": [
    "# Design the NN\n",
    "classifier = Sequential()\n",
    "\n",
    "# Input Layer\n",
    "classifier.add(Dense(activation = 'relu', input_dim = 11, units=9, kernel_initializer='he_normal'))\n",
    "\n",
    "#Normalize the data\n",
    "classifier.add(tf.keras.layers.BatchNormalization())\n",
    "\n",
    "# Add dropout\n",
    "classifier.add(Dropout(0.1))\n",
    "\n",
    "# Add 1st hidden layer\n",
    "classifier.add(Dense(9, activation='relu', kernel_initializer='he_normal'))\n",
    "\n",
    "#Normalize the data\n",
    "classifier.add(tf.keras.layers.BatchNormalization())\n",
    "\n",
    "# Add dropout\n",
    "classifier.add(Dropout(0.1))\n",
    "\n",
    "# Add output layer\n",
    "classifier.add(Dense(9, activation = 'softmax', kernel_initializer='uniform'))\n",
    "\n",
    "# Compile the model\n",
    "adam_optimizer = tf.keras.optimizers.Adam(lr=0.001)\n",
    "classifier.compile(optimizer=adam_optimizer, loss='categorical_crossentropy', metrics=['accuracy'])\n",
    "\n",
    "# Network Summary\n",
    "classifier.summary()"
   ]
  },
  {
   "cell_type": "code",
   "execution_count": 34,
   "id": "3b731a25",
   "metadata": {},
   "outputs": [
    {
     "name": "stdout",
     "output_type": "stream",
     "text": [
      "Epoch 1/100\n",
      "25/25 [==============================] - 1s 12ms/step - loss: 2.1829 - accuracy: 0.2233 - val_loss: 2.1623 - val_accuracy: 0.4298\n",
      "Epoch 2/100\n",
      "25/25 [==============================] - 0s 4ms/step - loss: 2.1223 - accuracy: 0.4361 - val_loss: 2.1228 - val_accuracy: 0.5322\n",
      "Epoch 3/100\n",
      "25/25 [==============================] - 0s 6ms/step - loss: 2.0553 - accuracy: 0.4904 - val_loss: 2.0754 - val_accuracy: 0.5439\n",
      "Epoch 4/100\n",
      "25/25 [==============================] - 0s 10ms/step - loss: 1.9874 - accuracy: 0.4987 - val_loss: 2.0148 - val_accuracy: 0.5673\n",
      "Epoch 5/100\n",
      "25/25 [==============================] - 0s 5ms/step - loss: 1.8862 - accuracy: 0.5602 - val_loss: 1.9395 - val_accuracy: 0.5702\n",
      "Epoch 6/100\n",
      "25/25 [==============================] - 0s 5ms/step - loss: 1.8010 - accuracy: 0.5596 - val_loss: 1.8448 - val_accuracy: 0.5936\n",
      "Epoch 7/100\n",
      "25/25 [==============================] - 0s 5ms/step - loss: 1.7158 - accuracy: 0.5569 - val_loss: 1.7457 - val_accuracy: 0.6023\n",
      "Epoch 8/100\n",
      "25/25 [==============================] - 0s 5ms/step - loss: 1.6532 - accuracy: 0.5245 - val_loss: 1.6468 - val_accuracy: 0.5994\n",
      "Epoch 9/100\n",
      "25/25 [==============================] - 0s 4ms/step - loss: 1.5766 - accuracy: 0.5653 - val_loss: 1.5399 - val_accuracy: 0.6111\n",
      "Epoch 10/100\n",
      "25/25 [==============================] - 0s 4ms/step - loss: 1.5211 - accuracy: 0.5391 - val_loss: 1.4414 - val_accuracy: 0.5965\n",
      "Epoch 11/100\n",
      "25/25 [==============================] - 0s 5ms/step - loss: 1.4645 - accuracy: 0.5474 - val_loss: 1.3531 - val_accuracy: 0.5936\n",
      "Epoch 12/100\n",
      "25/25 [==============================] - 0s 5ms/step - loss: 1.3786 - accuracy: 0.5270 - val_loss: 1.2888 - val_accuracy: 0.5965\n",
      "Epoch 13/100\n",
      "25/25 [==============================] - 0s 6ms/step - loss: 1.3033 - accuracy: 0.5551 - val_loss: 1.2279 - val_accuracy: 0.5936\n",
      "Epoch 14/100\n",
      "25/25 [==============================] - 0s 6ms/step - loss: 1.2024 - accuracy: 0.5741 - val_loss: 1.1851 - val_accuracy: 0.5994\n",
      "Epoch 15/100\n",
      "25/25 [==============================] - 0s 5ms/step - loss: 1.2251 - accuracy: 0.5243 - val_loss: 1.1521 - val_accuracy: 0.6023\n",
      "Epoch 16/100\n",
      "25/25 [==============================] - 0s 6ms/step - loss: 1.1566 - accuracy: 0.5616 - val_loss: 1.1195 - val_accuracy: 0.6023\n",
      "Epoch 17/100\n",
      "25/25 [==============================] - 0s 4ms/step - loss: 1.1955 - accuracy: 0.5361 - val_loss: 1.0991 - val_accuracy: 0.6023\n",
      "Epoch 18/100\n",
      "25/25 [==============================] - 0s 5ms/step - loss: 1.1375 - accuracy: 0.5085 - val_loss: 1.0809 - val_accuracy: 0.5936\n",
      "Epoch 19/100\n",
      "25/25 [==============================] - 0s 4ms/step - loss: 1.0767 - accuracy: 0.5680 - val_loss: 1.0660 - val_accuracy: 0.5936\n",
      "Epoch 20/100\n",
      "25/25 [==============================] - 0s 4ms/step - loss: 1.0537 - accuracy: 0.5611 - val_loss: 1.0561 - val_accuracy: 0.5965\n",
      "Epoch 21/100\n",
      "25/25 [==============================] - 0s 5ms/step - loss: 1.1187 - accuracy: 0.5458 - val_loss: 1.0496 - val_accuracy: 0.6053\n",
      "Epoch 22/100\n",
      "25/25 [==============================] - 0s 5ms/step - loss: 1.0186 - accuracy: 0.5606 - val_loss: 1.0417 - val_accuracy: 0.6170\n",
      "Epoch 23/100\n",
      "25/25 [==============================] - 0s 5ms/step - loss: 1.0337 - accuracy: 0.5404 - val_loss: 1.0356 - val_accuracy: 0.6023\n",
      "Epoch 24/100\n",
      "25/25 [==============================] - 0s 5ms/step - loss: 1.0155 - accuracy: 0.5698 - val_loss: 1.0298 - val_accuracy: 0.6111\n",
      "Epoch 25/100\n",
      "25/25 [==============================] - 0s 5ms/step - loss: 1.0681 - accuracy: 0.5236 - val_loss: 1.0253 - val_accuracy: 0.6228\n",
      "Epoch 26/100\n",
      "25/25 [==============================] - 0s 5ms/step - loss: 1.0890 - accuracy: 0.5580 - val_loss: 1.0213 - val_accuracy: 0.6140\n",
      "Epoch 27/100\n",
      "25/25 [==============================] - 0s 6ms/step - loss: 1.0063 - accuracy: 0.5749 - val_loss: 1.0202 - val_accuracy: 0.6111\n",
      "Epoch 28/100\n",
      "25/25 [==============================] - 0s 6ms/step - loss: 1.0206 - accuracy: 0.5696 - val_loss: 1.0173 - val_accuracy: 0.6140\n",
      "Epoch 29/100\n",
      "25/25 [==============================] - 0s 6ms/step - loss: 0.9938 - accuracy: 0.5822 - val_loss: 1.0147 - val_accuracy: 0.6082\n",
      "Epoch 30/100\n",
      "25/25 [==============================] - 0s 4ms/step - loss: 0.9932 - accuracy: 0.5790 - val_loss: 1.0165 - val_accuracy: 0.6053\n",
      "Epoch 31/100\n",
      "25/25 [==============================] - 0s 5ms/step - loss: 1.0350 - accuracy: 0.5772 - val_loss: 1.0103 - val_accuracy: 0.6111\n",
      "Epoch 32/100\n",
      "25/25 [==============================] - 0s 7ms/step - loss: 1.0231 - accuracy: 0.5783 - val_loss: 1.0050 - val_accuracy: 0.6199\n",
      "Epoch 33/100\n",
      "25/25 [==============================] - 0s 9ms/step - loss: 1.0058 - accuracy: 0.5682 - val_loss: 1.0041 - val_accuracy: 0.6228\n",
      "Epoch 34/100\n",
      "25/25 [==============================] - 0s 11ms/step - loss: 1.0330 - accuracy: 0.5410 - val_loss: 1.0065 - val_accuracy: 0.6170\n",
      "Epoch 35/100\n",
      "25/25 [==============================] - 0s 6ms/step - loss: 0.9848 - accuracy: 0.5573 - val_loss: 1.0082 - val_accuracy: 0.6111\n",
      "Epoch 36/100\n",
      "25/25 [==============================] - 0s 6ms/step - loss: 1.0045 - accuracy: 0.5648 - val_loss: 1.0077 - val_accuracy: 0.6082\n",
      "Epoch 37/100\n",
      "25/25 [==============================] - 0s 7ms/step - loss: 0.9676 - accuracy: 0.5517 - val_loss: 1.0038 - val_accuracy: 0.6170\n",
      "Epoch 38/100\n",
      "25/25 [==============================] - 0s 6ms/step - loss: 0.9826 - accuracy: 0.6050 - val_loss: 0.9994 - val_accuracy: 0.6199\n",
      "Epoch 39/100\n",
      "25/25 [==============================] - 0s 8ms/step - loss: 0.9797 - accuracy: 0.5824 - val_loss: 1.0029 - val_accuracy: 0.5965\n",
      "Epoch 40/100\n",
      "25/25 [==============================] - 0s 7ms/step - loss: 1.0144 - accuracy: 0.5415 - val_loss: 0.9992 - val_accuracy: 0.6053\n",
      "Epoch 41/100\n",
      "25/25 [==============================] - 0s 5ms/step - loss: 1.0085 - accuracy: 0.5649 - val_loss: 0.9965 - val_accuracy: 0.6140\n",
      "Epoch 42/100\n",
      "25/25 [==============================] - 0s 4ms/step - loss: 0.9434 - accuracy: 0.5839 - val_loss: 0.9967 - val_accuracy: 0.6111\n",
      "Epoch 43/100\n",
      "25/25 [==============================] - 0s 6ms/step - loss: 0.9973 - accuracy: 0.5794 - val_loss: 0.9935 - val_accuracy: 0.6023\n",
      "Epoch 44/100\n",
      "25/25 [==============================] - 0s 7ms/step - loss: 0.9766 - accuracy: 0.5909 - val_loss: 0.9900 - val_accuracy: 0.6111\n",
      "Epoch 45/100\n",
      "25/25 [==============================] - 0s 10ms/step - loss: 0.9458 - accuracy: 0.5718 - val_loss: 0.9895 - val_accuracy: 0.6053\n",
      "Epoch 46/100\n",
      "25/25 [==============================] - 0s 13ms/step - loss: 0.9830 - accuracy: 0.5803 - val_loss: 0.9886 - val_accuracy: 0.6140\n",
      "Epoch 47/100\n",
      "25/25 [==============================] - 0s 12ms/step - loss: 0.9717 - accuracy: 0.5795 - val_loss: 0.9885 - val_accuracy: 0.6170\n",
      "Epoch 48/100\n",
      "25/25 [==============================] - 0s 6ms/step - loss: 0.9652 - accuracy: 0.5590 - val_loss: 0.9878 - val_accuracy: 0.6082\n",
      "Epoch 49/100\n",
      "25/25 [==============================] - 0s 5ms/step - loss: 0.9838 - accuracy: 0.5904 - val_loss: 0.9874 - val_accuracy: 0.6111\n",
      "Epoch 50/100\n",
      "25/25 [==============================] - 0s 6ms/step - loss: 0.9346 - accuracy: 0.6200 - val_loss: 0.9871 - val_accuracy: 0.6023\n",
      "Epoch 51/100\n",
      "25/25 [==============================] - 0s 8ms/step - loss: 0.9731 - accuracy: 0.5813 - val_loss: 0.9864 - val_accuracy: 0.5994\n",
      "Epoch 52/100\n",
      "25/25 [==============================] - 0s 9ms/step - loss: 0.9608 - accuracy: 0.5611 - val_loss: 0.9869 - val_accuracy: 0.6023\n",
      "Epoch 53/100\n",
      "25/25 [==============================] - 0s 8ms/step - loss: 0.9670 - accuracy: 0.5648 - val_loss: 0.9898 - val_accuracy: 0.5848\n",
      "Epoch 54/100\n",
      "25/25 [==============================] - 0s 7ms/step - loss: 0.9713 - accuracy: 0.5603 - val_loss: 0.9903 - val_accuracy: 0.5906\n",
      "Epoch 55/100\n",
      "25/25 [==============================] - 0s 6ms/step - loss: 0.9995 - accuracy: 0.5504 - val_loss: 0.9934 - val_accuracy: 0.5848\n",
      "Epoch 56/100\n",
      "25/25 [==============================] - 0s 6ms/step - loss: 0.9922 - accuracy: 0.5507 - val_loss: 0.9875 - val_accuracy: 0.5936\n",
      "Epoch 57/100\n",
      "25/25 [==============================] - 0s 4ms/step - loss: 0.9462 - accuracy: 0.5641 - val_loss: 0.9845 - val_accuracy: 0.6023\n",
      "Epoch 58/100\n",
      "25/25 [==============================] - 0s 7ms/step - loss: 0.9838 - accuracy: 0.5575 - val_loss: 0.9851 - val_accuracy: 0.6053\n"
     ]
    },
    {
     "name": "stdout",
     "output_type": "stream",
     "text": [
      "Epoch 59/100\n",
      "25/25 [==============================] - 0s 5ms/step - loss: 0.9556 - accuracy: 0.5712 - val_loss: 0.9849 - val_accuracy: 0.5936\n",
      "Epoch 60/100\n",
      "25/25 [==============================] - 0s 4ms/step - loss: 0.9576 - accuracy: 0.5910 - val_loss: 0.9883 - val_accuracy: 0.5965\n",
      "Epoch 61/100\n",
      "25/25 [==============================] - 0s 5ms/step - loss: 0.9623 - accuracy: 0.5717 - val_loss: 0.9890 - val_accuracy: 0.5906\n",
      "Epoch 62/100\n",
      "25/25 [==============================] - 0s 8ms/step - loss: 0.9573 - accuracy: 0.5796 - val_loss: 0.9852 - val_accuracy: 0.5906\n",
      "Epoch 63/100\n",
      "25/25 [==============================] - 0s 7ms/step - loss: 0.9730 - accuracy: 0.5480 - val_loss: 0.9881 - val_accuracy: 0.5819\n",
      "Epoch 64/100\n",
      "25/25 [==============================] - 0s 7ms/step - loss: 0.9414 - accuracy: 0.6030 - val_loss: 0.9862 - val_accuracy: 0.5760\n",
      "Epoch 65/100\n",
      "25/25 [==============================] - 0s 6ms/step - loss: 0.9521 - accuracy: 0.5614 - val_loss: 0.9825 - val_accuracy: 0.5906\n",
      "Epoch 66/100\n",
      "25/25 [==============================] - 0s 6ms/step - loss: 0.9225 - accuracy: 0.6055 - val_loss: 0.9817 - val_accuracy: 0.5965\n",
      "Epoch 67/100\n",
      "25/25 [==============================] - 0s 6ms/step - loss: 0.9935 - accuracy: 0.5653 - val_loss: 0.9832 - val_accuracy: 0.5906\n",
      "Epoch 68/100\n",
      "25/25 [==============================] - 0s 5ms/step - loss: 0.9823 - accuracy: 0.5540 - val_loss: 0.9809 - val_accuracy: 0.5994\n",
      "Epoch 69/100\n",
      "25/25 [==============================] - 0s 5ms/step - loss: 0.9475 - accuracy: 0.5813 - val_loss: 0.9822 - val_accuracy: 0.5936\n",
      "Epoch 70/100\n",
      "25/25 [==============================] - 0s 5ms/step - loss: 0.9779 - accuracy: 0.5804 - val_loss: 0.9812 - val_accuracy: 0.5994\n",
      "Epoch 71/100\n",
      "25/25 [==============================] - 0s 4ms/step - loss: 1.0170 - accuracy: 0.5381 - val_loss: 0.9818 - val_accuracy: 0.5906\n",
      "Epoch 72/100\n",
      "25/25 [==============================] - 0s 4ms/step - loss: 0.9190 - accuracy: 0.5952 - val_loss: 0.9832 - val_accuracy: 0.5877\n",
      "Epoch 73/100\n",
      "25/25 [==============================] - 0s 5ms/step - loss: 0.9741 - accuracy: 0.5762 - val_loss: 0.9806 - val_accuracy: 0.6023\n",
      "Epoch 74/100\n",
      "25/25 [==============================] - 0s 5ms/step - loss: 0.9605 - accuracy: 0.5630 - val_loss: 0.9801 - val_accuracy: 0.6023\n",
      "Epoch 75/100\n",
      "25/25 [==============================] - 0s 6ms/step - loss: 0.9528 - accuracy: 0.5880 - val_loss: 0.9794 - val_accuracy: 0.5994\n",
      "Epoch 76/100\n",
      "25/25 [==============================] - 0s 12ms/step - loss: 0.9567 - accuracy: 0.6052 - val_loss: 0.9790 - val_accuracy: 0.6053\n",
      "Epoch 77/100\n",
      "25/25 [==============================] - 0s 6ms/step - loss: 0.9669 - accuracy: 0.5469 - val_loss: 0.9780 - val_accuracy: 0.5965\n",
      "Epoch 78/100\n",
      "25/25 [==============================] - 0s 7ms/step - loss: 0.9541 - accuracy: 0.5978 - val_loss: 0.9806 - val_accuracy: 0.5906\n",
      "Epoch 79/100\n",
      "25/25 [==============================] - 0s 8ms/step - loss: 0.9365 - accuracy: 0.5599 - val_loss: 0.9806 - val_accuracy: 0.5819\n",
      "Epoch 80/100\n",
      "25/25 [==============================] - 0s 5ms/step - loss: 0.9472 - accuracy: 0.5775 - val_loss: 0.9861 - val_accuracy: 0.5848\n",
      "Epoch 81/100\n",
      "25/25 [==============================] - 0s 5ms/step - loss: 0.9803 - accuracy: 0.5571 - val_loss: 0.9829 - val_accuracy: 0.5877\n",
      "Epoch 82/100\n",
      "25/25 [==============================] - 0s 6ms/step - loss: 0.9300 - accuracy: 0.5867 - val_loss: 0.9833 - val_accuracy: 0.5906\n",
      "Epoch 83/100\n",
      "25/25 [==============================] - 0s 5ms/step - loss: 0.9489 - accuracy: 0.5582 - val_loss: 0.9833 - val_accuracy: 0.5848\n",
      "Epoch 84/100\n",
      "25/25 [==============================] - 0s 5ms/step - loss: 0.9124 - accuracy: 0.5963 - val_loss: 0.9840 - val_accuracy: 0.5877\n",
      "Epoch 85/100\n",
      "25/25 [==============================] - 0s 4ms/step - loss: 0.9115 - accuracy: 0.5925 - val_loss: 0.9802 - val_accuracy: 0.6023\n",
      "Epoch 86/100\n",
      "25/25 [==============================] - 0s 5ms/step - loss: 0.9371 - accuracy: 0.5932 - val_loss: 0.9826 - val_accuracy: 0.5936\n",
      "Epoch 87/100\n",
      "25/25 [==============================] - 0s 5ms/step - loss: 0.9713 - accuracy: 0.5679 - val_loss: 0.9813 - val_accuracy: 0.5848\n",
      "Epoch 88/100\n",
      "25/25 [==============================] - 0s 4ms/step - loss: 0.9313 - accuracy: 0.5734 - val_loss: 0.9791 - val_accuracy: 0.5819\n",
      "Epoch 89/100\n",
      "25/25 [==============================] - 0s 4ms/step - loss: 0.9549 - accuracy: 0.5682 - val_loss: 0.9816 - val_accuracy: 0.5848\n",
      "Epoch 90/100\n",
      "25/25 [==============================] - 0s 4ms/step - loss: 0.9609 - accuracy: 0.5571 - val_loss: 0.9810 - val_accuracy: 0.5848\n",
      "Epoch 91/100\n",
      "25/25 [==============================] - 0s 5ms/step - loss: 0.9595 - accuracy: 0.5706 - val_loss: 0.9828 - val_accuracy: 0.5848\n",
      "Epoch 92/100\n",
      "25/25 [==============================] - 0s 6ms/step - loss: 0.9097 - accuracy: 0.6048 - val_loss: 0.9824 - val_accuracy: 0.5819\n",
      "Epoch 93/100\n",
      "25/25 [==============================] - 0s 5ms/step - loss: 0.9562 - accuracy: 0.5684 - val_loss: 0.9799 - val_accuracy: 0.5906\n",
      "Epoch 94/100\n",
      "25/25 [==============================] - 0s 6ms/step - loss: 0.9734 - accuracy: 0.5488 - val_loss: 0.9796 - val_accuracy: 0.5965\n",
      "Epoch 95/100\n",
      "25/25 [==============================] - 0s 6ms/step - loss: 0.9093 - accuracy: 0.5842 - val_loss: 0.9806 - val_accuracy: 0.5936\n",
      "Epoch 96/100\n",
      "25/25 [==============================] - 0s 5ms/step - loss: 0.9368 - accuracy: 0.5646 - val_loss: 0.9800 - val_accuracy: 0.5877\n",
      "Epoch 97/100\n",
      "25/25 [==============================] - 0s 5ms/step - loss: 0.9392 - accuracy: 0.5627 - val_loss: 0.9776 - val_accuracy: 0.5965\n",
      "Epoch 98/100\n",
      "25/25 [==============================] - 0s 6ms/step - loss: 0.9513 - accuracy: 0.5881 - val_loss: 0.9789 - val_accuracy: 0.5906\n",
      "Epoch 99/100\n",
      "25/25 [==============================] - 0s 6ms/step - loss: 0.9498 - accuracy: 0.5703 - val_loss: 0.9778 - val_accuracy: 0.5936\n",
      "Epoch 100/100\n",
      "25/25 [==============================] - 0s 5ms/step - loss: 0.9449 - accuracy: 0.5610 - val_loss: 0.9788 - val_accuracy: 0.5877\n"
     ]
    }
   ],
   "source": [
    "training = classifier.fit(X_train_scaled, dummy_y_train, \n",
    "               validation_data=(X_test_scaled,dummy_y_test), \n",
    "               epochs=100, batch_size=32)"
   ]
  },
  {
   "cell_type": "markdown",
   "id": "17c1919a",
   "metadata": {},
   "source": [
    "## E. Plot visuals as in Q3.C and share insights about difference observed in both the models."
   ]
  },
  {
   "cell_type": "code",
   "execution_count": 35,
   "id": "5235d79c",
   "metadata": {},
   "outputs": [
    {
     "name": "stderr",
     "output_type": "stream",
     "text": [
      "<ipython-input-35-e15c834d1442>:8: UserWarning: Matplotlib is currently using agg, which is a non-GUI backend, so cannot show the figure.\n",
      "  plt.show()\n"
     ]
    },
    {
     "data": {
      "image/png": "[encoded data removed]",
      "text/plain": [
       "<Figure size 432x288 with 1 Axes>"
      ]
     },
     "metadata": {
      "needs_background": "light"
     },
     "output_type": "display_data"
    }
   ],
   "source": [
    "# summarize history for loss\n",
    "plt.plot(training.history['loss'])\n",
    "plt.plot(training.history['val_loss'])\n",
    "plt.title('model loss')\n",
    "plt.ylabel('loss')\n",
    "plt.xlabel('epoch')\n",
    "plt.legend(['train', 'test'], loc='upper left')\n",
    "plt.show()"
   ]
  },
  {
   "cell_type": "code",
   "execution_count": 36,
   "id": "97d2913f",
   "metadata": {},
   "outputs": [
    {
     "name": "stderr",
     "output_type": "stream",
     "text": [
      "<ipython-input-36-5a00ee743493>:8: UserWarning: Matplotlib is currently using agg, which is a non-GUI backend, so cannot show the figure.\n",
      "  plt.show()\n"
     ]
    },
    {
     "data": {
      "image/png": "[encoded data removed]",
      "text/plain": [
       "<Figure size 432x288 with 1 Axes>"
      ]
     },
     "metadata": {
      "needs_background": "light"
     },
     "output_type": "display_data"
    }
   ],
   "source": [
    "# summarize history for accuracy\n",
    "plt.plot(training.history['accuracy'])\n",
    "plt.plot(training.history['val_accuracy'])\n",
    "plt.title('model accuracy')\n",
    "plt.ylabel('accuracy')\n",
    "plt.xlabel('epoch')\n",
    "plt.legend(['train', 'test'], loc='upper left')\n",
    "plt.show()"
   ]
  },
  {
   "cell_type": "markdown",
   "id": "f0e37987",
   "metadata": {},
   "source": [
    "## PART B• \n",
    "### DOMAIN: Autonomous Vehicles\n",
    "### • CONTEXT: A Recognising multi-digit numbers in photographs captured at street level is an important component of modern-day map \n",
    "### making. A classic example of a corpus of such street-level photographs is Google’s Street View imagery composed of hundreds of millions \n",
    "### of geo-located 360-degree panoramic images. \n",
    "### The ability to automatically transcribe an address number from a geo-located patch of pixels and associate the transcribed number with a \n",
    "### known street address helps pinpoint, with a high degree of accuracy, the location of the building it represents. More broadly, recognising \n",
    "### numbers in photographs is a problem of interest to the optical character recognition community. \n",
    "### While OCR on constrained domains like document processing is well studied, arbitrary multi-character text recognition in photographs is \n",
    "### still highly challenging. This difficulty arises due to the wide variability in the visual appearance of text in the wild on account of a large \n",
    "### range of fonts, colours, styles, orientations, and character arrangements. \n",
    "### The recognition problem is further complicated by environmental factors such as lighting, shadows, specularity, and occlusions as well as \n",
    "### by image acquisition factors such as resolution, motion, and focus blurs. In this project, we will use the dataset with images centred around \n",
    "### a single digit (many of the images do contain some distractors at the sides). Although we are taking a sample of the data which is simpler, \n",
    "### it is more complex than MNIST because of the distractors.\n",
    "### • DATA DESCRIPTION: The SVHN is a real-world image dataset for developing machine learning and object recognition algorithms with the \n",
    "### minimal requirement on data formatting but comes from a significantly harder, unsolved, real-world problem (recognising digits and \n",
    "### numbers in natural scene images). SVHN is obtained from house numbers in Google Street View images.\n",
    "### Where the labels for each of this image are the prominent number in that image i.e. 2,6,7 and 4 respectively.\n",
    "### The dataset has been provided in the form of h5py files. You can read about this file format here: https://docs.h5py.org/en/stable/\n",
    "### Acknowledgement: Yuval Netzer, Tao Wang, Adam Coates, Alessandro Bissacco, Bo Wu, Andrew Y. Ng Reading Digits in Natural Images with Unsupervised \n",
    "### Feature Learning NIPS Workshop on Deep Learning and Unsupervised Feature Learning 2011. PDF\n",
    "### http://ufldl.stanford.edu/housenumbers as the URL for this site"
   ]
  },
  {
   "cell_type": "code",
   "execution_count": 37,
   "id": "fb6b66b7",
   "metadata": {},
   "outputs": [
    {
     "data": {
      "text/plain": [
       "<HDF5 file \"Autonomous_Vehicles_SVHN_single_grey1.h5\" (mode r)>"
      ]
     },
     "execution_count": 37,
     "metadata": {},
     "output_type": "execute_result"
    }
   ],
   "source": [
    "\n",
    "import h5py\n",
    "\n",
    "\n",
    "AV_SVHN = h5py.File('Autonomous_Vehicles_SVHN_single_grey1.h5', 'r')\n",
    "\n",
    "AV_SVHN"
   ]
  },
  {
   "cell_type": "markdown",
   "id": "b4d39ea2",
   "metadata": {},
   "source": [
    "## B. Print all the keys from the .h5 file."
   ]
  },
  {
   "cell_type": "code",
   "execution_count": 38,
   "id": "a5bd2b15",
   "metadata": {},
   "outputs": [
    {
     "data": {
      "text/plain": [
       "<KeysViewHDF5 ['X_test', 'X_train', 'X_val', 'y_test', 'y_train', 'y_val']>"
      ]
     },
     "execution_count": 38,
     "metadata": {},
     "output_type": "execute_result"
    }
   ],
   "source": [
    "\n",
    "AV_SVHN.keys()"
   ]
  },
  {
   "cell_type": "markdown",
   "id": "4b3486d4",
   "metadata": {},
   "source": [
    "## C. Split the data into X_train, X_test, Y_train, Y_test"
   ]
  },
  {
   "cell_type": "code",
   "execution_count": 39,
   "id": "ce3119a1",
   "metadata": {},
   "outputs": [
    {
     "data": {
      "text/plain": [
       "array([2, 6, 7, ..., 7, 0, 4], dtype=uint8)"
      ]
     },
     "execution_count": 39,
     "metadata": {},
     "output_type": "execute_result"
    }
   ],
   "source": [
    "\n",
    "X_train = AV_SVHN['X_train'][:]\n",
    "y_train = AV_SVHN['y_train'][:]\n",
    "X_test = AV_SVHN['X_test'][:]\n",
    "y_test = AV_SVHN['y_test'][:]\n",
    "\n",
    "y_train"
   ]
  },
  {
   "cell_type": "markdown",
   "id": "b7c37be7",
   "metadata": {},
   "source": [
    "# 2. Data Visualisation and preprocessing\n",
    "## A. Print shape of all the 4 data split into x, y, train, test to verify if x & y is in sync. "
   ]
  },
  {
   "cell_type": "code",
   "execution_count": 40,
   "id": "7cfe3cc2",
   "metadata": {},
   "outputs": [
    {
     "name": "stdout",
     "output_type": "stream",
     "text": [
      "(42000, 32, 32) (42000,)\n",
      "(18000, 32, 32) (18000,)\n"
     ]
    }
   ],
   "source": [
    "\n",
    "print(X_train.shape, y_train.shape)\n",
    "print(X_test.shape, y_test.shape)"
   ]
  },
  {
   "cell_type": "markdown",
   "id": "018dc0a5",
   "metadata": {},
   "source": [
    "## B. Visualise first 10 images in train data and print its corresponding labels. "
   ]
  },
  {
   "cell_type": "code",
   "execution_count": 41,
   "id": "791aa882",
   "metadata": {},
   "outputs": [
    {
     "name": "stderr",
     "output_type": "stream",
     "text": [
      "<ipython-input-41-445d1f523bfb>:6: UserWarning: Matplotlib is currently using agg, which is a non-GUI backend, so cannot show the figure.\n",
      "  plt.show()\n"
     ]
    },
    {
     "data": {
      "image/png": "[encoded data removed]",
      "text/plain": [
       "<Figure size 432x288 with 1 Axes>"
      ]
     },
     "metadata": {
      "needs_background": "light"
     },
     "output_type": "display_data"
    },
    {
     "data": {
      "image/png": "[encoded data removed]",
      "text/plain": [
       "<Figure size 432x288 with 1 Axes>"
      ]
     },
     "metadata": {
      "needs_background": "light"
     },
     "output_type": "display_data"
    },
    {
     "data": {
      "image/png": "[encoded data removed]",
      "text/plain": [
       "<Figure size 432x288 with 1 Axes>"
      ]
     },
     "metadata": {
      "needs_background": "light"
     },
     "output_type": "display_data"
    },
    {
     "data": {
      "image/png": "[encoded data removed]",
      "text/plain": [
       "<Figure size 432x288 with 1 Axes>"
      ]
     },
     "metadata": {
      "needs_background": "light"
     },
     "output_type": "display_data"
    },
    {
     "data": {
      "image/png": "[encoded data removed]",
      "text/plain": [
       "<Figure size 432x288 with 1 Axes>"
      ]
     },
     "metadata": {
      "needs_background": "light"
     },
     "output_type": "display_data"
    },
    {
     "data": {
      "image/png": "[encoded data removed]",
      "text/plain": [
       "<Figure size 432x288 with 1 Axes>"
      ]
     },
     "metadata": {
      "needs_background": "light"
     },
     "output_type": "display_data"
    },
    {
     "data": {
      "image/png": "[encoded data removed]",
      "text/plain": [
       "<Figure size 432x288 with 1 Axes>"
      ]
     },
     "metadata": {
      "needs_background": "light"
     },
     "output_type": "display_data"
    },
    {
     "data": {
      "image/png": "[encoded data removed]",
      "text/plain": [
       "<Figure size 432x288 with 1 Axes>"
      ]
     },
     "metadata": {
      "needs_background": "light"
     },
     "output_type": "display_data"
    },
    {
     "data": {
      "image/png": "[encoded data removed]",
      "text/plain": [
       "<Figure size 432x288 with 1 Axes>"
      ]
     },
     "metadata": {
      "needs_background": "light"
     },
     "output_type": "display_data"
    },
    {
     "data": {
      "image/png": "[encoded data removed]",
      "text/plain": [
       "<Figure size 432x288 with 1 Axes>"
      ]
     },
     "metadata": {
      "needs_background": "light"
     },
     "output_type": "display_data"
    }
   ],
   "source": [
    "for i in range(10):\n",
    "    image = X_train[i]\n",
    "    plt.figure(i)\n",
    "    plt.imshow(image)\n",
    "    plt.xlabel(y_train[i])\n",
    "    plt.show()"
   ]
  },
  {
   "cell_type": "code",
   "execution_count": 42,
   "id": "ddd8d5e7",
   "metadata": {},
   "outputs": [
    {
     "name": "stdout",
     "output_type": "stream",
     "text": [
      "label for each of the above image: [2 6 7 4 4 0 3 0 7 3]\n"
     ]
    },
    {
     "name": "stderr",
     "output_type": "stream",
     "text": [
      "<ipython-input-42-d985bd56aa84>:9: UserWarning: Matplotlib is currently using agg, which is a non-GUI backend, so cannot show the figure.\n",
      "  plt.show()\n"
     ]
    },
    {
     "data": {
      "image/png": "[encoded data removed]",
      "text/plain": [
       "<Figure size 720x72 with 10 Axes>"
      ]
     },
     "metadata": {
      "needs_background": "light"
     },
     "output_type": "display_data"
    }
   ],
   "source": [
    "# visualizing the first 10 images in the dataset and their labels\n",
    "plt.figure(figsize=(10, 1))\n",
    "\n",
    "for i in range(10):\n",
    "    plt.subplot(1, 10, i+1)\n",
    "    plt.imshow(X_train[i])\n",
    "    plt.axis('off')\n",
    "\n",
    "plt.show()\n",
    "print('label for each of the above image: %s' % (y_train[0:10]))"
   ]
  },
  {
   "cell_type": "markdown",
   "id": "efc36784",
   "metadata": {},
   "source": [
    "## C. Reshape all the images with appropriate shape update the data in same variable."
   ]
  },
  {
   "cell_type": "code",
   "execution_count": 43,
   "id": "8dd9a835",
   "metadata": {},
   "outputs": [
    {
     "name": "stdout",
     "output_type": "stream",
     "text": [
      "Shape: (32, 32)\n",
      "\n",
      "First image:\n",
      " [[ 33.0704  30.2601  26.852  ...  71.4471  58.2204  42.9939]\n",
      " [ 25.2283  25.5533  29.9765 ... 113.0209 103.3639  84.2949]\n",
      " [ 26.2775  22.6137  40.4763 ... 113.3028 121.775  115.4228]\n",
      " ...\n",
      " [ 28.5502  36.212   45.0801 ...  24.1359  25.0927  26.0603]\n",
      " [ 38.4352  26.4733  23.2717 ...  28.1094  29.4683  30.0661]\n",
      " [ 50.2984  26.0773  24.0389 ...  49.6682  50.853   53.0377]]\n"
     ]
    }
   ],
   "source": [
    "\n",
    "\n",
    "print(\"Shape:\", X_train[0].shape)\n",
    "print()\n",
    "print(\"First image:\\n\", X_train[0])"
   ]
  },
  {
   "cell_type": "code",
   "execution_count": 44,
   "id": "963ec1ee",
   "metadata": {},
   "outputs": [],
   "source": [
    "# Reshaping the dataset to flatten them. Reshape the 2D image data into a 1D array\n",
    "\n",
    "X_train = X_train.reshape(X_train.shape[0], -1)\n",
    "X_test = X_test.reshape(X_test.shape[0], -1)"
   ]
  },
  {
   "cell_type": "code",
   "execution_count": 45,
   "id": "5ee418fa",
   "metadata": {},
   "outputs": [
    {
     "name": "stdout",
     "output_type": "stream",
     "text": [
      "Shape: (1024,)\n",
      "\n",
      "First image:\n",
      " [33.0704 30.2601 26.852  ... 49.6682 50.853  53.0377]\n"
     ]
    }
   ],
   "source": [
    "# Check Shape of the images and the first image\n",
    "\n",
    "print(\"Shape:\", X_train[0].shape)\n",
    "print()\n",
    "print(\"First image:\\n\", X_train[0])"
   ]
  },
  {
   "cell_type": "code",
   "execution_count": 46,
   "id": "c6aa76b3",
   "metadata": {},
   "outputs": [
    {
     "name": "stdout",
     "output_type": "stream",
     "text": [
      "X_train (42000, 1024)  X_test (18000, 1024) y_train (42000,) y_test (18000,)\n"
     ]
    }
   ],
   "source": [
    "print(\"X_train\",X_train.shape,\" X_test\", X_test.shape, 'y_train',y_train.shape, 'y_test',y_test.shape)"
   ]
  },
  {
   "cell_type": "markdown",
   "id": "5572a5bb",
   "metadata": {},
   "source": [
    "## D. Normalise the images i.e. Normalise the pixel values."
   ]
  },
  {
   "cell_type": "code",
   "execution_count": 47,
   "id": "591479ff",
   "metadata": {},
   "outputs": [
    {
     "name": "stdout",
     "output_type": "stream",
     "text": [
      "Max value in X_train: 0.9999\n",
      "Min value in X_train: 0.0\n"
     ]
    }
   ],
   "source": [
    "# Normalize inputs from 0-255 to 0-1\n",
    "\n",
    "X_train = X_train/255\n",
    "X_test = X_test/255\n",
    "\n",
    "print(\"Max value in X_train:\", X_train.max())\n",
    "print(\"Min value in X_train:\", X_train.min())"
   ]
  },
  {
   "cell_type": "markdown",
   "id": "67917376",
   "metadata": {},
   "source": [
    "## E. Transform Labels into format acceptable by Neural Network"
   ]
  },
  {
   "cell_type": "code",
   "execution_count": 48,
   "id": "bcee540b",
   "metadata": {},
   "outputs": [
    {
     "name": "stdout",
     "output_type": "stream",
     "text": [
      "(42000, 10)\n",
      "(18000, 10)\n"
     ]
    }
   ],
   "source": [
    "# one hot encode output\n",
    "y_train = np_utils.to_categorical(y_train)\n",
    "y_test = np_utils.to_categorical(y_test)\n",
    "\n",
    "print(y_train.shape)\n",
    "print(y_test.shape)"
   ]
  },
  {
   "cell_type": "markdown",
   "id": "8bd0d3ae",
   "metadata": {},
   "source": [
    "## F. Print total Number of classes in the Dataset. "
   ]
  },
  {
   "cell_type": "code",
   "execution_count": 49,
   "id": "9d286caf",
   "metadata": {},
   "outputs": [
    {
     "name": "stdout",
     "output_type": "stream",
     "text": [
      "Number of classes in y_train: 10\n",
      "Number of classes in y_test: 10\n"
     ]
    }
   ],
   "source": [
    "print(\"Number of classes in y_train:\", y_train.shape[1])\n",
    "print(\"Number of classes in y_test:\", y_test.shape[1])"
   ]
  },
  {
   "cell_type": "markdown",
   "id": "ec2c2393",
   "metadata": {},
   "source": [
    "# 3. Model Training & Evaluation using Neural Network\n",
    "\n",
    "## A. Design a Neural Network to train a classifier."
   ]
  },
  {
   "cell_type": "code",
   "execution_count": 50,
   "id": "a696e018",
   "metadata": {},
   "outputs": [
    {
     "name": "stdout",
     "output_type": "stream",
     "text": [
      "Model: \"sequential_2\"\n",
      "_________________________________________________________________\n",
      "Layer (type)                 Output Shape              Param #   \n",
      "=================================================================\n",
      "dense_6 (Dense)              (None, 256)               262400    \n",
      "_________________________________________________________________\n",
      "dense_7 (Dense)              (None, 128)               32896     \n",
      "_________________________________________________________________\n",
      "dropout_2 (Dropout)          (None, 128)               0         \n",
      "_________________________________________________________________\n",
      "dense_8 (Dense)              (None, 64)                8256      \n",
      "_________________________________________________________________\n",
      "dense_9 (Dense)              (None, 64)                4160      \n",
      "_________________________________________________________________\n",
      "dense_10 (Dense)             (None, 32)                2080      \n",
      "_________________________________________________________________\n",
      "batch_normalization_2 (Batch (None, 32)                128       \n",
      "_________________________________________________________________\n",
      "dense_11 (Dense)             (None, 10)                330       \n",
      "=================================================================\n",
      "Total params: 310,250\n",
      "Trainable params: 310,186\n",
      "Non-trainable params: 64\n",
      "_________________________________________________________________\n"
     ]
    }
   ],
   "source": [
    "#Importing losses and optimizers modules\n",
    "from tensorflow.keras import losses\n",
    "from tensorflow.keras import optimizers\n",
    "\n",
    "#Define the function\n",
    "def nn_model_2():\n",
    "    model = tf.keras.Sequential([\n",
    "      tf.keras.layers.Dense(256, activation='relu', input_shape=(1024, )),\n",
    "      tf.keras.layers.Dense(128, activation='relu'),\n",
    "      tf.keras.layers.Dropout(rate = 0.2),\n",
    "      tf.keras.layers.Dense(64, activation='relu'),\n",
    "      tf.keras.layers.Dense(64, activation='relu'),\n",
    "      tf.keras.layers.Dense(32, activation='relu'),\n",
    "      tf.keras.layers.BatchNormalization(),\n",
    "      tf.keras.layers.Dense(10, activation = 'softmax')             \n",
    "    ]) \n",
    "    \n",
    "    #declare adam optimizer with learning rate of 0.0005 \n",
    "    adam = optimizers.Adam(learning_rate=0.0005)\n",
    "    \n",
    "    #compile the model\n",
    "    model.compile(optimizer=adam, loss= 'categorical_crossentropy', metrics= ['accuracy'])\n",
    "    \n",
    "    return model\n",
    "\n",
    "# Build the model\n",
    "model_2 = nn_model_2()\n",
    "#Print the model summary\n",
    "model_2.summary()"
   ]
  },
  {
   "cell_type": "markdown",
   "id": "27727dc7",
   "metadata": {},
   "source": [
    "## B. Train the classifier using previously designed Architecture (Use best suitable parameters)."
   ]
  },
  {
   "cell_type": "code",
   "execution_count": 51,
   "id": "158d39a3",
   "metadata": {},
   "outputs": [
    {
     "name": "stdout",
     "output_type": "stream",
     "text": [
      "Epoch 1/30\n",
      "263/263 [==============================] - 3s 10ms/step - loss: 2.4033 - accuracy: 0.1021 - val_loss: 2.3047 - val_accuracy: 0.1052\n",
      "Epoch 2/30\n",
      "263/263 [==============================] - 2s 7ms/step - loss: 2.2890 - accuracy: 0.1189 - val_loss: 2.1596 - val_accuracy: 0.2277\n",
      "Epoch 3/30\n",
      "263/263 [==============================] - 3s 10ms/step - loss: 1.8858 - accuracy: 0.3172 - val_loss: 1.5831 - val_accuracy: 0.4518\n",
      "Epoch 4/30\n",
      "263/263 [==============================] - 3s 10ms/step - loss: 1.4916 - accuracy: 0.4929 - val_loss: 1.2670 - val_accuracy: 0.5869\n",
      "Epoch 5/30\n",
      "263/263 [==============================] - 3s 10ms/step - loss: 1.2837 - accuracy: 0.5770 - val_loss: 1.2077 - val_accuracy: 0.6048\n",
      "Epoch 6/30\n",
      "263/263 [==============================] - 2s 8ms/step - loss: 1.1842 - accuracy: 0.6167 - val_loss: 1.1311 - val_accuracy: 0.6400\n",
      "Epoch 7/30\n",
      "263/263 [==============================] - 2s 7ms/step - loss: 1.1063 - accuracy: 0.6433 - val_loss: 1.0468 - val_accuracy: 0.6690\n",
      "Epoch 8/30\n",
      "263/263 [==============================] - 2s 9ms/step - loss: 1.0556 - accuracy: 0.6691 - val_loss: 1.0723 - val_accuracy: 0.6587\n",
      "Epoch 9/30\n",
      "263/263 [==============================] - 2s 9ms/step - loss: 1.0188 - accuracy: 0.6773 - val_loss: 0.9613 - val_accuracy: 0.6946\n",
      "Epoch 10/30\n",
      "263/263 [==============================] - 2s 7ms/step - loss: 0.9862 - accuracy: 0.6916 - val_loss: 0.9336 - val_accuracy: 0.6995\n",
      "Epoch 11/30\n",
      "263/263 [==============================] - 2s 7ms/step - loss: 0.9408 - accuracy: 0.7050 - val_loss: 0.9050 - val_accuracy: 0.7167\n",
      "Epoch 12/30\n",
      "263/263 [==============================] - 2s 8ms/step - loss: 0.9100 - accuracy: 0.7102 - val_loss: 0.9085 - val_accuracy: 0.7082\n",
      "Epoch 13/30\n",
      "263/263 [==============================] - 2s 9ms/step - loss: 0.8993 - accuracy: 0.7179 - val_loss: 0.9036 - val_accuracy: 0.7168\n",
      "Epoch 14/30\n",
      "263/263 [==============================] - 2s 7ms/step - loss: 0.8775 - accuracy: 0.7197 - val_loss: 0.8422 - val_accuracy: 0.7360\n",
      "Epoch 15/30\n",
      "263/263 [==============================] - 2s 9ms/step - loss: 0.8458 - accuracy: 0.7331 - val_loss: 0.8695 - val_accuracy: 0.7290\n",
      "Epoch 16/30\n",
      "263/263 [==============================] - 2s 9ms/step - loss: 0.8231 - accuracy: 0.7435 - val_loss: 0.8427 - val_accuracy: 0.7361\n",
      "Epoch 17/30\n",
      "263/263 [==============================] - 2s 7ms/step - loss: 0.8069 - accuracy: 0.7452 - val_loss: 0.7711 - val_accuracy: 0.7589\n",
      "Epoch 18/30\n",
      "263/263 [==============================] - 2s 7ms/step - loss: 0.8033 - accuracy: 0.7425 - val_loss: 0.8175 - val_accuracy: 0.7431\n",
      "Epoch 19/30\n",
      "263/263 [==============================] - 2s 7ms/step - loss: 0.7787 - accuracy: 0.7555 - val_loss: 0.8035 - val_accuracy: 0.7468\n",
      "Epoch 20/30\n",
      "263/263 [==============================] - 2s 8ms/step - loss: 0.7614 - accuracy: 0.7593 - val_loss: 0.7575 - val_accuracy: 0.7661\n",
      "Epoch 21/30\n",
      "263/263 [==============================] - 2s 9ms/step - loss: 0.7699 - accuracy: 0.7579 - val_loss: 0.7476 - val_accuracy: 0.7680\n",
      "Epoch 22/30\n",
      "263/263 [==============================] - 2s 8ms/step - loss: 0.7435 - accuracy: 0.7632 - val_loss: 0.7457 - val_accuracy: 0.7670\n",
      "Epoch 23/30\n",
      "263/263 [==============================] - 2s 9ms/step - loss: 0.7399 - accuracy: 0.7631 - val_loss: 0.7938 - val_accuracy: 0.7498\n",
      "Epoch 24/30\n",
      "263/263 [==============================] - 2s 9ms/step - loss: 0.7355 - accuracy: 0.7641 - val_loss: 0.7805 - val_accuracy: 0.7557\n",
      "Epoch 25/30\n",
      "263/263 [==============================] - 2s 7ms/step - loss: 0.7294 - accuracy: 0.7690 - val_loss: 0.7188 - val_accuracy: 0.7801\n",
      "Epoch 26/30\n",
      "263/263 [==============================] - 2s 8ms/step - loss: 0.7323 - accuracy: 0.7717 - val_loss: 0.7285 - val_accuracy: 0.7754\n",
      "Epoch 27/30\n",
      "263/263 [==============================] - 2s 8ms/step - loss: 0.7073 - accuracy: 0.7751 - val_loss: 0.7623 - val_accuracy: 0.7611\n",
      "Epoch 28/30\n",
      "263/263 [==============================] - 2s 8ms/step - loss: 0.7050 - accuracy: 0.7758 - val_loss: 0.6939 - val_accuracy: 0.7850\n",
      "Epoch 29/30\n",
      "263/263 [==============================] - 2s 7ms/step - loss: 0.6808 - accuracy: 0.7861 - val_loss: 0.7407 - val_accuracy: 0.7763\n",
      "Epoch 30/30\n",
      "263/263 [==============================] - 2s 8ms/step - loss: 0.6912 - accuracy: 0.7806 - val_loss: 0.7005 - val_accuracy: 0.7786\n"
     ]
    }
   ],
   "source": [
    "# Fit the model\n",
    "history_model_2 = model_2.fit(X_train,y_train, epochs=30, validation_split=0.2, batch_size=128, verbose = 1)"
   ]
  },
  {
   "cell_type": "markdown",
   "id": "b622131c",
   "metadata": {},
   "source": [
    "## C. Evaluate performance of the model with appropriate metrics."
   ]
  },
  {
   "cell_type": "code",
   "execution_count": 52,
   "id": "ff5ab8b2",
   "metadata": {},
   "outputs": [
    {
     "name": "stdout",
     "output_type": "stream",
     "text": [
      "              precision    recall  f1-score   support\n",
      "\n",
      "           0       0.72      0.86      0.78      1814\n",
      "           1       0.68      0.88      0.77      1828\n",
      "           2       0.83      0.79      0.81      1803\n",
      "           3       0.82      0.69      0.75      1719\n",
      "           4       0.84      0.83      0.84      1812\n",
      "           5       0.78      0.77      0.77      1768\n",
      "           6       0.83      0.76      0.79      1832\n",
      "           7       0.83      0.81      0.82      1808\n",
      "           8       0.80      0.68      0.74      1812\n",
      "           9       0.77      0.76      0.76      1804\n",
      "\n",
      "    accuracy                           0.78     18000\n",
      "   macro avg       0.79      0.78      0.78     18000\n",
      "weighted avg       0.79      0.78      0.78     18000\n",
      "\n"
     ]
    },
    {
     "name": "stderr",
     "output_type": "stream",
     "text": [
      "<ipython-input-52-f120ccadb8d4>:21: UserWarning: Matplotlib is currently using agg, which is a non-GUI backend, so cannot show the figure.\n",
      "  plt.show()\n"
     ]
    },
    {
     "data": {
      "image/png": "[encoded data removed]",
      "text/plain": [
       "<Figure size 576x360 with 2 Axes>"
      ]
     },
     "metadata": {
      "needs_background": "light"
     },
     "output_type": "display_data"
    }
   ],
   "source": [
    "test_pred = model_2.predict(X_test)\n",
    "\n",
    "test_pred = np.argmax(test_pred, axis=-1)\n",
    "\n",
    "#Converting each entry to single label from one-hot encoded vector\n",
    "y_test = np.argmax(y_test, axis=-1)\n",
    "\n",
    "#importing required functions\n",
    "from sklearn.metrics import classification_report\n",
    "from sklearn.metrics import confusion_matrix\n",
    "\n",
    "#Printing the classification report\n",
    "print(classification_report(y_test, test_pred))\n",
    "\n",
    "#Plotting the heatmap using confusion matrix\n",
    "cm = confusion_matrix(y_test, test_pred)\n",
    "plt.figure(figsize=(8,5))\n",
    "sns.heatmap(cm, annot=True,  fmt='.0f')\n",
    "plt.ylabel('Actual')\n",
    "plt.xlabel('Predicted')\n",
    "plt.show()"
   ]
  },
  {
   "cell_type": "markdown",
   "id": "8975ac3d",
   "metadata": {},
   "source": [
    "## D. Plot the training loss, validation loss vs number of epochs and training accuracy, validation accuracy vs number of epochs plot and write your observations on the same"
   ]
  },
  {
   "cell_type": "code",
   "execution_count": 53,
   "id": "2d3a07ba",
   "metadata": {},
   "outputs": [
    {
     "name": "stderr",
     "output_type": "stream",
     "text": [
      "<ipython-input-53-62949c5b5cc2>:12: UserWarning: Matplotlib is currently using agg, which is a non-GUI backend, so cannot show the figure.\n",
      "  plt.show()\n"
     ]
    },
    {
     "data": {
      "image/png": "[encoded data removed]",
      "text/plain": [
       "<Figure size 576x576 with 1 Axes>"
      ]
     },
     "metadata": {
      "needs_background": "light"
     },
     "output_type": "display_data"
    }
   ],
   "source": [
    "# plotting the accuracies\n",
    "\n",
    "dict_hist = history_model_2.history\n",
    "list_ep = [i for i in range(1,31)]\n",
    "\n",
    "plt.figure(figsize = (8,8))\n",
    "plt.plot(list_ep,dict_hist['accuracy'],ls = '--', label = 'accuracy')\n",
    "plt.plot(list_ep,dict_hist['val_accuracy'],ls = '--', label = 'val_accuracy')\n",
    "plt.ylabel('Accuracy')\n",
    "plt.xlabel('Epochs')\n",
    "plt.legend()\n",
    "plt.show()"
   ]
  },
  {
   "cell_type": "code",
   "execution_count": 54,
   "id": "0f71aa72",
   "metadata": {},
   "outputs": [
    {
     "name": "stderr",
     "output_type": "stream",
     "text": [
      "<ipython-input-54-c903909191e5>:10: UserWarning: Matplotlib is currently using agg, which is a non-GUI backend, so cannot show the figure.\n",
      "  plt.show()\n"
     ]
    },
    {
     "data": {
      "image/png": "[encoded data removed]",
      "text/plain": [
       "<Figure size 576x576 with 1 Axes>"
      ]
     },
     "metadata": {
      "needs_background": "light"
     },
     "output_type": "display_data"
    }
   ],
   "source": [
    "dict_hist = history_model_2.history\n",
    "list_ep = [i for i in range(1,31)]\n",
    "\n",
    "plt.figure(figsize = (8,8))\n",
    "plt.plot(list_ep,dict_hist['loss'],ls = '--', label = 'loss')\n",
    "plt.plot(list_ep,dict_hist['val_loss'],ls = '--', label = 'val_loss')\n",
    "plt.ylabel('Loss')\n",
    "plt.xlabel('Epochs')\n",
    "plt.legend()\n",
    "plt.show()"
   ]
  },
  {
   "cell_type": "code",
   "execution_count": null,
   "id": "bf1e5334",
   "metadata": {},
   "outputs": [],
   "source": []
  }
 ],
 "metadata": {
  "kernelspec": {
   "display_name": "Python 3.8.10 64-bit",
   "language": "python",
   "name": "python3"
  },
  "language_info": {
   "codemirror_mode": {
    "name": "ipython",
    "version": 3
   },
   "file_extension": ".py",
   "mimetype": "text/x-python",
   "name": "python",
   "nbconvert_exporter": "python",
   "pygments_lexer": "ipython3",
   "version": "3.8.10"
  },
  "vscode": {
   "interpreter": {
    "hash": "570feb405e2e27c949193ac68f46852414290d515b0ba6e5d90d076ed2284471"
   }
  }
 },
 "nbformat": 4,
 "nbformat_minor": 5
}
